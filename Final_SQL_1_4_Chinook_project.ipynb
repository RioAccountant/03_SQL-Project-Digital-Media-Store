{
  "nbformat": 4,
  "nbformat_minor": 0,
  "metadata": {
    "colab": {
      "provenance": [],
      "toc_visible": true,
      "include_colab_link": true
    },
    "kernelspec": {
      "name": "python3",
      "display_name": "Python 3"
    },
    "language_info": {
      "name": "python"
    }
  },
  "cells": [
    {
      "cell_type": "markdown",
      "metadata": {
        "id": "view-in-github",
        "colab_type": "text"
      },
      "source": [
        "<a href=\"https://colab.research.google.com/github/RioAccountant/03_SQL-Project-Digital-Media-Store/blob/main/Final_SQL_1_4_Chinook_project.ipynb\" target=\"_parent\"><img src=\"https://colab.research.google.com/assets/colab-badge.svg\" alt=\"Open In Colab\"/></a>"
      ]
    },
    {
      "cell_type": "markdown",
      "source": [
        "# Project SQL - Chinook\n"
      ],
      "metadata": {
        "id": "cJG_e1vK2NMI"
      }
    },
    {
      "cell_type": "markdown",
      "source": [
        "## Chinook data set\n",
        "\n",
        "See the lecture on SQLite3 using the Chinook data set to set up the software, database, and tables, as well as for the links to ancillary information about the data set.\n"
      ],
      "metadata": {
        "id": "s6jMcIbW3P5o"
      }
    },
    {
      "cell_type": "code",
      "source": [
        "# Install the sqlite package for Ubuntu\n",
        "# Download the Chinook sqlite database\n",
        "import numpy as np\n",
        "import pandas as pd\n",
        "import matplotlib.pyplot as plt"
      ],
      "metadata": {
        "id": "UhFW0uTR6Jfv"
      },
      "execution_count": null,
      "outputs": []
    },
    {
      "cell_type": "code",
      "source": [
        "%%capture\n",
        "%%bash\n",
        "apt-get update\n",
        "apt-get install -y sqlite3"
      ],
      "metadata": {
        "id": "XTcdQYeJySI0"
      },
      "execution_count": null,
      "outputs": []
    },
    {
      "cell_type": "code",
      "source": [
        "%%bash\n",
        "[ -f chinook.zip ] ||\n",
        "  curl -s -O https://www.sqlitetutorial.net/wp-content/uploads/2018/03/chinook.zip\n",
        "unzip -l chinook.zip\n"
      ],
      "metadata": {
        "colab": {
          "base_uri": "https://localhost:8080/"
        },
        "id": "pIJ43dISyScy",
        "outputId": "74362fea-5901-4283-cc18-437a17caa6f4",
        "collapsed": true
      },
      "execution_count": null,
      "outputs": [
        {
          "output_type": "stream",
          "name": "stdout",
          "text": [
            "Archive:  chinook.zip\n",
            "  Length      Date    Time    Name\n",
            "---------  ---------- -----   ----\n",
            "   884736  2015-11-29 10:53   chinook.db\n",
            "---------                     -------\n",
            "   884736                     1 file\n"
          ]
        }
      ]
    },
    {
      "cell_type": "code",
      "source": [
        "!unzip -u chinook.zip\n"
      ],
      "metadata": {
        "colab": {
          "base_uri": "https://localhost:8080/"
        },
        "id": "vwvrHwi-ye8T",
        "outputId": "979889f1-a187-4da3-f4e6-aa570f411d1a"
      },
      "execution_count": null,
      "outputs": [
        {
          "output_type": "stream",
          "name": "stdout",
          "text": [
            "Archive:  chinook.zip\n"
          ]
        }
      ]
    },
    {
      "cell_type": "code",
      "source": [
        "!ls -la"
      ],
      "metadata": {
        "colab": {
          "base_uri": "https://localhost:8080/"
        },
        "id": "LVxqs3OUyiCz",
        "outputId": "70d84f40-5d4a-4b75-b38d-4cd2fcd17504",
        "collapsed": true
      },
      "execution_count": null,
      "outputs": [
        {
          "output_type": "stream",
          "name": "stdout",
          "text": [
            "total 1180\n",
            "drwxr-xr-x 1 root root   4096 Oct 29 19:30 .\n",
            "drwxr-xr-x 1 root root   4096 Oct 29 19:26 ..\n",
            "-rw-r--r-- 1 root root 884736 Nov 29  2015 chinook.db\n",
            "-rw-r--r-- 1 root root 305596 Oct 29 19:30 chinook.zip\n",
            "drwxr-xr-x 4 root root   4096 Oct 28 13:26 .config\n",
            "drwxr-xr-x 1 root root   4096 Oct 28 13:27 sample_data\n"
          ]
        }
      ]
    },
    {
      "cell_type": "code",
      "source": [
        "# Get a list of the tables in the database\n",
        "%%script sqlite3 --column --header chinook.db\n",
        ".tables"
      ],
      "metadata": {
        "colab": {
          "base_uri": "https://localhost:8080/"
        },
        "id": "LN4ZGs3xylxi",
        "outputId": "db61f365-b74d-4c7f-a8ab-180f3bf20eed"
      },
      "execution_count": null,
      "outputs": [
        {
          "output_type": "stream",
          "name": "stdout",
          "text": [
            "albums          employees       invoices        playlists     \n",
            "artists         genres          media_types     tracks        \n",
            "customers       invoice_items   playlist_track\n"
          ]
        }
      ]
    },
    {
      "cell_type": "code",
      "source": [
        "# Show the schema for the entire database\n",
        "%%script sqlite3 --column --header chinook.db\n",
        ".schema\n"
      ],
      "metadata": {
        "colab": {
          "base_uri": "https://localhost:8080/"
        },
        "id": "YEcbH0sSyohD",
        "outputId": "9f512910-9a58-478e-d1b7-b8b19b58e920",
        "collapsed": true
      },
      "execution_count": null,
      "outputs": [
        {
          "output_type": "stream",
          "name": "stdout",
          "text": [
            "CREATE TABLE IF NOT EXISTS \"albums\"\r\n",
            "(\r\n",
            "    [AlbumId] INTEGER PRIMARY KEY AUTOINCREMENT NOT NULL,\r\n",
            "    [Title] NVARCHAR(160)  NOT NULL,\r\n",
            "    [ArtistId] INTEGER  NOT NULL,\r\n",
            "    FOREIGN KEY ([ArtistId]) REFERENCES \"artists\" ([ArtistId]) \r\n",
            "\t\tON DELETE NO ACTION ON UPDATE NO ACTION\r\n",
            ");\n",
            "CREATE TABLE sqlite_sequence(name,seq);\n",
            "CREATE TABLE IF NOT EXISTS \"artists\"\r\n",
            "(\r\n",
            "    [ArtistId] INTEGER PRIMARY KEY AUTOINCREMENT NOT NULL,\r\n",
            "    [Name] NVARCHAR(120)\r\n",
            ");\n",
            "CREATE TABLE IF NOT EXISTS \"customers\"\r\n",
            "(\r\n",
            "    [CustomerId] INTEGER PRIMARY KEY AUTOINCREMENT NOT NULL,\r\n",
            "    [FirstName] NVARCHAR(40)  NOT NULL,\r\n",
            "    [LastName] NVARCHAR(20)  NOT NULL,\r\n",
            "    [Company] NVARCHAR(80),\r\n",
            "    [Address] NVARCHAR(70),\r\n",
            "    [City] NVARCHAR(40),\r\n",
            "    [State] NVARCHAR(40),\r\n",
            "    [Country] NVARCHAR(40),\r\n",
            "    [PostalCode] NVARCHAR(10),\r\n",
            "    [Phone] NVARCHAR(24),\r\n",
            "    [Fax] NVARCHAR(24),\r\n",
            "    [Email] NVARCHAR(60)  NOT NULL,\r\n",
            "    [SupportRepId] INTEGER,\r\n",
            "    FOREIGN KEY ([SupportRepId]) REFERENCES \"employees\" ([EmployeeId]) \r\n",
            "\t\tON DELETE NO ACTION ON UPDATE NO ACTION\r\n",
            ");\n",
            "CREATE TABLE IF NOT EXISTS \"employees\"\r\n",
            "(\r\n",
            "    [EmployeeId] INTEGER PRIMARY KEY AUTOINCREMENT NOT NULL,\r\n",
            "    [LastName] NVARCHAR(20)  NOT NULL,\r\n",
            "    [FirstName] NVARCHAR(20)  NOT NULL,\r\n",
            "    [Title] NVARCHAR(30),\r\n",
            "    [ReportsTo] INTEGER,\r\n",
            "    [BirthDate] DATETIME,\r\n",
            "    [HireDate] DATETIME,\r\n",
            "    [Address] NVARCHAR(70),\r\n",
            "    [City] NVARCHAR(40),\r\n",
            "    [State] NVARCHAR(40),\r\n",
            "    [Country] NVARCHAR(40),\r\n",
            "    [PostalCode] NVARCHAR(10),\r\n",
            "    [Phone] NVARCHAR(24),\r\n",
            "    [Fax] NVARCHAR(24),\r\n",
            "    [Email] NVARCHAR(60),\r\n",
            "    FOREIGN KEY ([ReportsTo]) REFERENCES \"employees\" ([EmployeeId]) \r\n",
            "\t\tON DELETE NO ACTION ON UPDATE NO ACTION\r\n",
            ");\n",
            "CREATE TABLE IF NOT EXISTS \"genres\"\r\n",
            "(\r\n",
            "    [GenreId] INTEGER PRIMARY KEY AUTOINCREMENT NOT NULL,\r\n",
            "    [Name] NVARCHAR(120)\r\n",
            ");\n",
            "CREATE TABLE IF NOT EXISTS \"invoices\"\r\n",
            "(\r\n",
            "    [InvoiceId] INTEGER PRIMARY KEY AUTOINCREMENT NOT NULL,\r\n",
            "    [CustomerId] INTEGER  NOT NULL,\r\n",
            "    [InvoiceDate] DATETIME  NOT NULL,\r\n",
            "    [BillingAddress] NVARCHAR(70),\r\n",
            "    [BillingCity] NVARCHAR(40),\r\n",
            "    [BillingState] NVARCHAR(40),\r\n",
            "    [BillingCountry] NVARCHAR(40),\r\n",
            "    [BillingPostalCode] NVARCHAR(10),\r\n",
            "    [Total] NUMERIC(10,2)  NOT NULL,\r\n",
            "    FOREIGN KEY ([CustomerId]) REFERENCES \"customers\" ([CustomerId]) \r\n",
            "\t\tON DELETE NO ACTION ON UPDATE NO ACTION\r\n",
            ");\n",
            "CREATE TABLE IF NOT EXISTS \"invoice_items\"\r\n",
            "(\r\n",
            "    [InvoiceLineId] INTEGER PRIMARY KEY AUTOINCREMENT NOT NULL,\r\n",
            "    [InvoiceId] INTEGER  NOT NULL,\r\n",
            "    [TrackId] INTEGER  NOT NULL,\r\n",
            "    [UnitPrice] NUMERIC(10,2)  NOT NULL,\r\n",
            "    [Quantity] INTEGER  NOT NULL,\r\n",
            "    FOREIGN KEY ([InvoiceId]) REFERENCES \"invoices\" ([InvoiceId]) \r\n",
            "\t\tON DELETE NO ACTION ON UPDATE NO ACTION,\r\n",
            "    FOREIGN KEY ([TrackId]) REFERENCES \"tracks\" ([TrackId]) \r\n",
            "\t\tON DELETE NO ACTION ON UPDATE NO ACTION\r\n",
            ");\n",
            "CREATE TABLE IF NOT EXISTS \"media_types\"\r\n",
            "(\r\n",
            "    [MediaTypeId] INTEGER PRIMARY KEY AUTOINCREMENT NOT NULL,\r\n",
            "    [Name] NVARCHAR(120)\r\n",
            ");\n",
            "CREATE TABLE IF NOT EXISTS \"playlists\"\r\n",
            "(\r\n",
            "    [PlaylistId] INTEGER PRIMARY KEY AUTOINCREMENT NOT NULL,\r\n",
            "    [Name] NVARCHAR(120)\r\n",
            ");\n",
            "CREATE TABLE IF NOT EXISTS \"playlist_track\"\r\n",
            "(\r\n",
            "    [PlaylistId] INTEGER  NOT NULL,\r\n",
            "    [TrackId] INTEGER  NOT NULL,\r\n",
            "    CONSTRAINT [PK_PlaylistTrack] PRIMARY KEY  ([PlaylistId], [TrackId]),\r\n",
            "    FOREIGN KEY ([PlaylistId]) REFERENCES \"playlists\" ([PlaylistId]) \r\n",
            "\t\tON DELETE NO ACTION ON UPDATE NO ACTION,\r\n",
            "    FOREIGN KEY ([TrackId]) REFERENCES \"tracks\" ([TrackId]) \r\n",
            "\t\tON DELETE NO ACTION ON UPDATE NO ACTION\r\n",
            ");\n",
            "CREATE TABLE IF NOT EXISTS \"tracks\"\r\n",
            "(\r\n",
            "    [TrackId] INTEGER PRIMARY KEY AUTOINCREMENT NOT NULL,\r\n",
            "    [Name] NVARCHAR(200)  NOT NULL,\r\n",
            "    [AlbumId] INTEGER,\r\n",
            "    [MediaTypeId] INTEGER  NOT NULL,\r\n",
            "    [GenreId] INTEGER,\r\n",
            "    [Composer] NVARCHAR(220),\r\n",
            "    [Milliseconds] INTEGER  NOT NULL,\r\n",
            "    [Bytes] INTEGER,\r\n",
            "    [UnitPrice] NUMERIC(10,2)  NOT NULL,\r\n",
            "    FOREIGN KEY ([AlbumId]) REFERENCES \"albums\" ([AlbumId]) \r\n",
            "\t\tON DELETE NO ACTION ON UPDATE NO ACTION,\r\n",
            "    FOREIGN KEY ([GenreId]) REFERENCES \"genres\" ([GenreId]) \r\n",
            "\t\tON DELETE NO ACTION ON UPDATE NO ACTION,\r\n",
            "    FOREIGN KEY ([MediaTypeId]) REFERENCES \"media_types\" ([MediaTypeId]) \r\n",
            "\t\tON DELETE NO ACTION ON UPDATE NO ACTION\r\n",
            ");\n",
            "CREATE INDEX [IFK_AlbumArtistId] ON \"albums\" ([ArtistId]);\n",
            "CREATE INDEX [IFK_CustomerSupportRepId] ON \"customers\" ([SupportRepId]);\n",
            "CREATE INDEX [IFK_EmployeeReportsTo] ON \"employees\" ([ReportsTo]);\n",
            "CREATE INDEX [IFK_InvoiceCustomerId] ON \"invoices\" ([CustomerId]);\n",
            "CREATE INDEX [IFK_InvoiceLineInvoiceId] ON \"invoice_items\" ([InvoiceId]);\n",
            "CREATE INDEX [IFK_InvoiceLineTrackId] ON \"invoice_items\" ([TrackId]);\n",
            "CREATE INDEX [IFK_PlaylistTrackTrackId] ON \"playlist_track\" ([TrackId]);\n",
            "CREATE INDEX [IFK_TrackAlbumId] ON \"tracks\" ([AlbumId]);\n",
            "CREATE INDEX [IFK_TrackGenreId] ON \"tracks\" ([GenreId]);\n",
            "CREATE INDEX [IFK_TrackMediaTypeId] ON \"tracks\" ([MediaTypeId]);\n",
            "CREATE TABLE sqlite_stat1(tbl,idx,stat);\n"
          ]
        }
      ]
    },
    {
      "cell_type": "markdown",
      "source": [
        "## Come up with questions about your data\n",
        "Have a look at the Entity-Relation ( ER ) diagram to help come up with questions.\n",
        "\n",
        "* What sort of information is in this dataset?\n",
        "* How many records are there?\n",
        "* How many different countries (states, counties, cities, etc) have records in this data set?\n",
        "\n",
        "\n",
        "If you are stuck, here are some ideas for questions:\n",
        "- https://github.com/LucasMcL/15-sql_queries_02-chinook/blob/master/README.md\n",
        "- [Using the R language]( https://rpubs.com/enext777/636199 )\n",
        "- [Search Google]( https://www.google.com/search?q=chinook+database+questions )\n",
        "\n"
      ],
      "metadata": {
        "id": "OA9Mp38s52x2"
      }
    },
    {
      "cell_type": "markdown",
      "source": [
        "## Use SQL queries to pull specific information\n",
        "\n",
        "Do NOT pull all the data and then filter using DataFrame methods etc. Make sure and use AT LEAST 13 of the 15 SQL options listed below. (You may have to get creative and come up with more questions to ask/answer.)\n"
      ],
      "metadata": {
        "id": "TqvaIfog546s"
      }
    },
    {
      "cell_type": "markdown",
      "source": [
        "### Basic Queries\n"
      ],
      "metadata": {
        "id": "borajWvCtRtl"
      }
    },
    {
      "cell_type": "markdown",
      "source": [
        "###List of Tables & Missing EDR info:"
      ],
      "metadata": {
        "id": "cNYoWz2FqdH0"
      }
    },
    {
      "cell_type": "code",
      "source": [
        "#Can we get a view of all the tables in list form?\n",
        "%%script sqlite3 --column --header chinook.db\n",
        ".tables"
      ],
      "metadata": {
        "colab": {
          "base_uri": "https://localhost:8080/"
        },
        "id": "lVVadmPmeV0u",
        "outputId": "54706d3b-bed9-4d44-c113-6210e95db96c"
      },
      "execution_count": null,
      "outputs": [
        {
          "output_type": "stream",
          "name": "stdout",
          "text": [
            "albums          employees       invoices        playlists     \n",
            "artists         genres          media_types     tracks        \n",
            "customers       invoice_items   playlist_track\n"
          ]
        }
      ]
    },
    {
      "cell_type": "code",
      "source": [
        "# What are the additional fields[columns] not displayed on the ERD for Invoices & EE's\n",
        "%%script sqlite3 --column --header chinook.db\n",
        "\n",
        "PRAGMA table_info(invoices);\n",
        "PRAGMA table_info(employees);\n",
        "#Pragmatic information"
      ],
      "metadata": {
        "id": "YmICVUnVuBSQ",
        "colab": {
          "base_uri": "https://localhost:8080/"
        },
        "outputId": "130d7c2a-8ea4-4add-98d2-6d3a33ee8194",
        "collapsed": true
      },
      "execution_count": null,
      "outputs": [
        {
          "output_type": "stream",
          "name": "stdout",
          "text": [
            "cid  name               type           notnull  dflt_value  pk\n",
            "---  -----------------  -------------  -------  ----------  --\n",
            "0    InvoiceId          INTEGER        1                    1 \n",
            "1    CustomerId         INTEGER        1                    0 \n",
            "2    InvoiceDate        DATETIME       1                    0 \n",
            "3    BillingAddress     NVARCHAR(70)   0                    0 \n",
            "4    BillingCity        NVARCHAR(40)   0                    0 \n",
            "5    BillingState       NVARCHAR(40)   0                    0 \n",
            "6    BillingCountry     NVARCHAR(40)   0                    0 \n",
            "7    BillingPostalCode  NVARCHAR(10)   0                    0 \n",
            "8    Total              NUMERIC(10,2)  1                    0 \n",
            "cid  name        type          notnull  dflt_value  pk\n",
            "---  ----------  ------------  -------  ----------  --\n",
            "0    EmployeeId  INTEGER       1                    1 \n",
            "1    LastName    NVARCHAR(20)  1                    0 \n",
            "2    FirstName   NVARCHAR(20)  1                    0 \n",
            "3    Title       NVARCHAR(30)  0                    0 \n",
            "4    ReportsTo   INTEGER       0                    0 \n",
            "5    BirthDate   DATETIME      0                    0 \n",
            "6    HireDate    DATETIME      0                    0 \n",
            "7    Address     NVARCHAR(70)  0                    0 \n",
            "8    City        NVARCHAR(40)  0                    0 \n",
            "9    State       NVARCHAR(40)  0                    0 \n",
            "10   Country     NVARCHAR(40)  0                    0 \n",
            "11   PostalCode  NVARCHAR(10)  0                    0 \n",
            "12   Phone       NVARCHAR(24)  0                    0 \n",
            "13   Fax         NVARCHAR(24)  0                    0 \n",
            "14   Email       NVARCHAR(60)  0                    0 \n"
          ]
        }
      ]
    },
    {
      "cell_type": "markdown",
      "source": [
        "#### SELECT (with * and with column names)\n"
      ],
      "metadata": {
        "id": "gIEIK51EthwM"
      }
    },
    {
      "cell_type": "code",
      "source": [
        "#Musical Types List (Genre)=25-remind me of the primary classifications.\n",
        "%%script sqlite3 --column --header chinook.db\n",
        "SELECT *\n",
        "FROM genres\n"
      ],
      "metadata": {
        "colab": {
          "base_uri": "https://localhost:8080/"
        },
        "collapsed": true,
        "id": "acPl8l8iV5Gv",
        "outputId": "445996f4-83d4-4870-d506-8bc00ddf8d30"
      },
      "execution_count": null,
      "outputs": [
        {
          "output_type": "stream",
          "name": "stdout",
          "text": [
            "GenreId  Name              \n",
            "-------  ------------------\n",
            "1        Rock              \n",
            "2        Jazz              \n",
            "3        Metal             \n",
            "4        Alternative & Punk\n",
            "5        Rock And Roll     \n",
            "6        Blues             \n",
            "7        Latin             \n",
            "8        Reggae            \n",
            "9        Pop               \n",
            "10       Soundtrack        \n",
            "11       Bossa Nova        \n",
            "12       Easy Listening    \n",
            "13       Heavy Metal       \n",
            "14       R&B/Soul          \n",
            "15       Electronica/Dance \n",
            "16       World             \n",
            "17       Hip Hop/Rap       \n",
            "18       Science Fiction   \n",
            "19       TV Shows          \n",
            "20       Sci Fi & Fantasy  \n",
            "21       Drama             \n",
            "22       Comedy            \n",
            "23       Alternative       \n",
            "24       Classical         \n",
            "25       Opera             \n"
          ]
        }
      ]
    },
    {
      "cell_type": "code",
      "source": [
        "%%script sqlite3 --column --header chinook.db\n",
        "#What are the media types?\n",
        "SELECT *\n",
        "FROM Media_types"
      ],
      "metadata": {
        "id": "tzpioI-zlhiY",
        "collapsed": true,
        "colab": {
          "base_uri": "https://localhost:8080/"
        },
        "outputId": "61d7d6c6-9717-4290-c974-f6fb4458d33b"
      },
      "execution_count": null,
      "outputs": [
        {
          "output_type": "stream",
          "name": "stdout",
          "text": [
            "MediaTypeId  Name                       \n",
            "-----------  ---------------------------\n",
            "1            MPEG audio file            \n",
            "2            Protected AAC audio file   \n",
            "3            Protected MPEG-4 video file\n",
            "4            Purchased AAC audio file   \n",
            "5            AAC audio file             \n"
          ]
        }
      ]
    },
    {
      "cell_type": "code",
      "source": [
        "%%script sqlite3 --column --header chinook.db\n",
        "#Visual of invoice contents-note State not a required field and sadly staff is not using.\n",
        "SELECT *\n",
        "FROM invoices\n",
        "limit 10;"
      ],
      "metadata": {
        "id": "W6GVSe1aXLvi",
        "collapsed": true,
        "colab": {
          "base_uri": "https://localhost:8080/"
        },
        "outputId": "8a0d67c5-e5e4-4542-d929-bfcc26268788"
      },
      "execution_count": null,
      "outputs": [
        {
          "output_type": "stream",
          "name": "stdout",
          "text": [
            "InvoiceId  CustomerId  InvoiceDate          BillingAddress           BillingCity  BillingState  BillingCountry  BillingPostalCode  Total\n",
            "---------  ----------  -------------------  -----------------------  -----------  ------------  --------------  -----------------  -----\n",
            "1          2           2009-01-01 00:00:00  Theodor-Heuss-Straße 34  Stuttgart                  Germany         70174              1.98 \n",
            "2          4           2009-01-02 00:00:00  Ullevålsveien 14         Oslo                       Norway          0171               3.96 \n",
            "3          8           2009-01-03 00:00:00  Grétrystraat 63          Brussels                   Belgium         1000               5.94 \n",
            "4          14          2009-01-06 00:00:00  8210 111 ST NW           Edmonton     AB            Canada          T6G 2C7            8.91 \n",
            "5          23          2009-01-11 00:00:00  69 Salem Street          Boston       MA            USA             2113               13.86\n",
            "6          37          2009-01-19 00:00:00  Berger Straße 10         Frankfurt                  Germany         60316              0.99 \n",
            "7          38          2009-02-01 00:00:00  Barbarossastraße 19      Berlin                     Germany         10779              1.98 \n",
            "8          40          2009-02-01 00:00:00  8, Rue Hanovre           Paris                      France          75002              1.98 \n",
            "9          42          2009-02-02 00:00:00  9, Place Louis Barthou   Bordeaux                   France          33000              3.96 \n",
            "10         46          2009-02-03 00:00:00  3 Chatham Street         Dublin       Dublin        Ireland                            5.94 \n"
          ]
        }
      ]
    },
    {
      "cell_type": "markdown",
      "source": [
        "#### OR"
      ],
      "metadata": {
        "id": "MkeRgifRkGZc"
      }
    },
    {
      "cell_type": "code",
      "source": [
        "%%script sqlite3 --column --header chinook.db\n",
        "#Premium or discounted tracks? #Yes, there are items price differences, what are they? See next.\n",
        "SELECT Trackid, UnitPrice\n",
        "FROM invoice_items\n",
        "WHERE UnitPrice > .99 OR UnitPrice < .99\n",
        "limit 10;\n",
        "#Premium or discounted tracks? I wonder how it is bifurcated?"
      ],
      "metadata": {
        "collapsed": true,
        "id": "MOSFfVRRnJc6",
        "colab": {
          "base_uri": "https://localhost:8080/"
        },
        "outputId": "c2424604-61a3-40aa-d084-bd0055a0016f"
      },
      "execution_count": null,
      "outputs": [
        {
          "output_type": "stream",
          "name": "stdout",
          "text": [
            "TrackId  UnitPrice\n",
            "-------  ---------\n",
            "2820     1.99     \n",
            "2826     1.99     \n",
            "2832     1.99     \n",
            "2838     1.99     \n",
            "2844     1.99     \n",
            "2850     1.99     \n",
            "2856     1.99     \n",
            "2862     1.99     \n",
            "2868     1.99     \n",
            "2874     1.99     \n"
          ]
        }
      ]
    },
    {
      "cell_type": "code",
      "source": [
        "%%script sqlite3 --column --header chinook.db\n",
        "#look at this from the customer perspective aggregate, ties to above, and everything seems to be a multiple of 99 cents\n",
        "SELECT I.InvoiceId, C.FirstName, C.LastName, sum(IT.UnitPrice * IT.Quantity) as Total\n",
        "FROM invoice_items IT\n",
        "INNER JOIN invoices I ON I.InvoiceId = IT.InvoiceId\n",
        "INNER JOIN customers C ON C.CustomerId = I.CustomerId\n",
        "GROUP BY I.InvoiceId, C.FirstName, C.LastName\n",
        "limit 10;"
      ],
      "metadata": {
        "id": "eCJ6xS3QJyiK",
        "collapsed": true,
        "colab": {
          "base_uri": "https://localhost:8080/"
        },
        "outputId": "8a4d74ce-f993-4d8b-dee2-9c420948787f"
      },
      "execution_count": null,
      "outputs": [
        {
          "output_type": "stream",
          "name": "stdout",
          "text": [
            "InvoiceId  FirstName  LastName    Total\n",
            "---------  ---------  ----------  -----\n",
            "1          Leonie     Köhler      1.98 \n",
            "2          Bjørn      Hansen      3.96 \n",
            "3          Daan       Peeters     5.94 \n",
            "4          Mark       Philips     8.91 \n",
            "5          John       Gordon      13.86\n",
            "6          Fynn       Zimmermann  0.99 \n",
            "7          Niklas     Schröder    1.98 \n",
            "8          Dominique  Lefebvre    1.98 \n",
            "9          Wyatt      Girard      3.96 \n",
            "10         Hugh       O'Reilly    5.94 \n"
          ]
        }
      ]
    },
    {
      "cell_type": "code",
      "source": [
        "%%script sqlite3 --column --header chinook.db\n",
        "#Looking for fixed or variable cost per track; even with 100 I cannot confirm.\n",
        "SELECT distinct albums.Title as Cover, tracks.Name as Song, tracks.UnitPrice\n",
        "FROM invoice_items\n",
        "INNER JOIN tracks ON tracks.TrackId = invoice_items.TrackId\n",
        "INNER JOIN albums ON albums.AlbumId = tracks.AlbumId\n",
        "limit 10;\n"
      ],
      "metadata": {
        "id": "s1uFFZbTPeCg",
        "collapsed": true,
        "colab": {
          "base_uri": "https://localhost:8080/"
        },
        "outputId": "996ed386-fb73-4f57-ae76-876305a0482e"
      },
      "execution_count": null,
      "outputs": [
        {
          "output_type": "stream",
          "name": "stdout",
          "text": [
            "Cover                                  Song                                     UnitPrice\n",
            "-------------------------------------  ---------------------------------------  ---------\n",
            "For Those About To Rock We Salute You  For Those About To Rock (We Salute You)  0.99     \n",
            "Balls to the Wall                      Balls to the Wall                        0.99     \n",
            "Restless and Wild                      Fast As a Shark                          0.99     \n",
            "Restless and Wild                      Restless and Wild                        0.99     \n",
            "Restless and Wild                      Princess of the Dawn                     0.99     \n",
            "For Those About To Rock We Salute You  Put The Finger On You                    0.99     \n",
            "For Those About To Rock We Salute You  Inject The Venom                         0.99     \n",
            "For Those About To Rock We Salute You  Snowballed                               0.99     \n",
            "For Those About To Rock We Salute You  Evil Walks                               0.99     \n",
            "For Those About To Rock We Salute You  Breaking The Rules                       0.99     \n"
          ]
        }
      ]
    },
    {
      "cell_type": "code",
      "source": [
        "%%script sqlite3 --column --header chinook.db\n",
        "#create temp tbl as ref to use later w/o the limit\n",
        "SELECT * FROM\n",
        "(SELECT distinct albums.Title as Cover, tracks.Name as Song, tracks.UnitPrice\n",
        "FROM invoice_items\n",
        "INNER JOIN tracks ON tracks.TrackId = invoice_items.TrackId\n",
        "INNER JOIN albums ON albums.AlbumId = tracks.AlbumId\n",
        "limit 25) ref\n"
      ],
      "metadata": {
        "id": "47x1POoEcXHV",
        "collapsed": true,
        "colab": {
          "base_uri": "https://localhost:8080/"
        },
        "outputId": "d34eca9e-b98a-45dc-bf6e-239f60527e31"
      },
      "execution_count": null,
      "outputs": [
        {
          "output_type": "stream",
          "name": "stdout",
          "text": [
            "Cover                                  Song                                     UnitPrice\n",
            "-------------------------------------  ---------------------------------------  ---------\n",
            "For Those About To Rock We Salute You  For Those About To Rock (We Salute You)  0.99     \n",
            "Balls to the Wall                      Balls to the Wall                        0.99     \n",
            "Restless and Wild                      Fast As a Shark                          0.99     \n",
            "Restless and Wild                      Restless and Wild                        0.99     \n",
            "Restless and Wild                      Princess of the Dawn                     0.99     \n",
            "For Those About To Rock We Salute You  Put The Finger On You                    0.99     \n",
            "For Those About To Rock We Salute You  Inject The Venom                         0.99     \n",
            "For Those About To Rock We Salute You  Snowballed                               0.99     \n",
            "For Those About To Rock We Salute You  Evil Walks                               0.99     \n",
            "For Those About To Rock We Salute You  Breaking The Rules                       0.99     \n",
            "For Those About To Rock We Salute You  Night Of The Long Knives                 0.99     \n",
            "For Those About To Rock We Salute You  Spellbound                               0.99     \n",
            "Let There Be Rock                      Go Down                                  0.99     \n",
            "Let There Be Rock                      Dog Eat Dog                              0.99     \n",
            "Let There Be Rock                      Problem Child                            0.99     \n",
            "Let There Be Rock                      Overdose                                 0.99     \n",
            "Let There Be Rock                      Hell Ain't A Bad Place To Be             0.99     \n",
            "Big Ones                               Love In An Elevator                      0.99     \n",
            "Big Ones                               Rag Doll                                 0.99     \n",
            "Big Ones                               What It Takes                            0.99     \n",
            "Big Ones                               Janie's Got A Gun                        0.99     \n",
            "Big Ones                               Amazing                                  0.99     \n",
            "Big Ones                               Blind Man                                0.99     \n",
            "Big Ones                               Deuces Are Wild                          0.99     \n",
            "Big Ones                               Angel                                    0.99     \n"
          ]
        }
      ]
    },
    {
      "cell_type": "code",
      "source": [
        "%%script sqlite3 --column --header chinook.db\n",
        "#Album Inventory-Details of the 347\n",
        "SELECT AlbumID, Title as Album, ArtistID\n",
        "FROM albums as album_inventory\n"
      ],
      "metadata": {
        "id": "y1M7mSv8Vy4Y",
        "collapsed": true,
        "colab": {
          "base_uri": "https://localhost:8080/"
        },
        "outputId": "f6d29061-6e22-42ce-9482-babf0497bb68"
      },
      "execution_count": null,
      "outputs": [
        {
          "output_type": "stream",
          "name": "stdout",
          "text": [
            "AlbumId  Album                                                                                            ArtistId\n",
            "-------  -----------------------------------------------------------------------------------------------  --------\n",
            "1        For Those About To Rock We Salute You                                                            1       \n",
            "2        Balls to the Wall                                                                                2       \n",
            "3        Restless and Wild                                                                                2       \n",
            "4        Let There Be Rock                                                                                1       \n",
            "5        Big Ones                                                                                         3       \n",
            "6        Jagged Little Pill                                                                               4       \n",
            "7        Facelift                                                                                         5       \n",
            "8        Warner 25 Anos                                                                                   6       \n",
            "9        Plays Metallica By Four Cellos                                                                   7       \n",
            "10       Audioslave                                                                                       8       \n",
            "11       Out Of Exile                                                                                     8       \n",
            "12       BackBeat Soundtrack                                                                              9       \n",
            "13       The Best Of Billy Cobham                                                                         10      \n",
            "14       Alcohol Fueled Brewtality Live! [Disc 1]                                                         11      \n",
            "15       Alcohol Fueled Brewtality Live! [Disc 2]                                                         11      \n",
            "16       Black Sabbath                                                                                    12      \n",
            "17       Black Sabbath Vol. 4 (Remaster)                                                                  12      \n",
            "18       Body Count                                                                                       13      \n",
            "19       Chemical Wedding                                                                                 14      \n",
            "20       The Best Of Buddy Guy - The Millenium Collection                                                 15      \n",
            "21       Prenda Minha                                                                                     16      \n",
            "22       Sozinho Remix Ao Vivo                                                                            16      \n",
            "23       Minha Historia                                                                                   17      \n",
            "24       Afrociberdelia                                                                                   18      \n",
            "25       Da Lama Ao Caos                                                                                  18      \n",
            "26       Acústico MTV [Live]                                                                              19      \n",
            "27       Cidade Negra - Hits                                                                              19      \n",
            "28       Na Pista                                                                                         20      \n",
            "29       Axé Bahia 2001                                                                                   21      \n",
            "30       BBC Sessions [Disc 1] [Live]                                                                     22      \n",
            "31       Bongo Fury                                                                                       23      \n",
            "32       Carnaval 2001                                                                                    21      \n",
            "33       Chill: Brazil (Disc 1)                                                                           24      \n",
            "34       Chill: Brazil (Disc 2)                                                                           6       \n",
            "35       Garage Inc. (Disc 1)                                                                             50      \n",
            "36       Greatest Hits II                                                                                 51      \n",
            "37       Greatest Kiss                                                                                    52      \n",
            "38       Heart of the Night                                                                               53      \n",
            "39       International Superhits                                                                          54      \n",
            "40       Into The Light                                                                                   55      \n",
            "41       Meus Momentos                                                                                    56      \n",
            "42       Minha História                                                                                   57      \n",
            "43       MK III The Final Concerts [Disc 1]                                                               58      \n",
            "44       Physical Graffiti [Disc 1]                                                                       22      \n",
            "45       Sambas De Enredo 2001                                                                            21      \n",
            "46       Supernatural                                                                                     59      \n",
            "47       The Best of Ed Motta                                                                             37      \n",
            "48       The Essential Miles Davis [Disc 1]                                                               68      \n",
            "49       The Essential Miles Davis [Disc 2]                                                               68      \n",
            "50       The Final Concerts (Disc 2)                                                                      58      \n",
            "51       Up An' Atom                                                                                      69      \n",
            "52       Vinícius De Moraes - Sem Limite                                                                  70      \n",
            "53       Vozes do MPB                                                                                     21      \n",
            "54       Chronicle, Vol. 1                                                                                76      \n",
            "55       Chronicle, Vol. 2                                                                                76      \n",
            "56       Cássia Eller - Coleção Sem Limite [Disc 2]                                                       77      \n",
            "57       Cássia Eller - Sem Limite [Disc 1]                                                               77      \n",
            "58       Come Taste The Band                                                                              58      \n",
            "59       Deep Purple In Rock                                                                              58      \n",
            "60       Fireball                                                                                         58      \n",
            "61       Knocking at Your Back Door: The Best Of Deep Purple in the 80's                                  58      \n",
            "62       Machine Head                                                                                     58      \n",
            "63       Purpendicular                                                                                    58      \n",
            "64       Slaves And Masters                                                                               58      \n",
            "65       Stormbringer                                                                                     58      \n",
            "66       The Battle Rages On                                                                              58      \n",
            "67       Vault: Def Leppard's Greatest Hits                                                               78      \n",
            "68       Outbreak                                                                                         79      \n",
            "69       Djavan Ao Vivo - Vol. 02                                                                         80      \n",
            "70       Djavan Ao Vivo - Vol. 1                                                                          80      \n",
            "71       Elis Regina-Minha História                                                                       41      \n",
            "72       The Cream Of Clapton                                                                             81      \n",
            "73       Unplugged                                                                                        81      \n",
            "74       Album Of The Year                                                                                82      \n",
            "75       Angel Dust                                                                                       82      \n",
            "76       King For A Day Fool For A Lifetime                                                               82      \n",
            "77       The Real Thing                                                                                   82      \n",
            "78       Deixa Entrar                                                                                     83      \n",
            "79       In Your Honor [Disc 1]                                                                           84      \n",
            "80       In Your Honor [Disc 2]                                                                           84      \n",
            "81       One By One                                                                                       84      \n",
            "82       The Colour And The Shape                                                                         84      \n",
            "83       My Way: The Best Of Frank Sinatra [Disc 1]                                                       85      \n",
            "84       Roda De Funk                                                                                     86      \n",
            "85       As Canções de Eu Tu Eles                                                                         27      \n",
            "86       Quanta Gente Veio Ver (Live)                                                                     27      \n",
            "87       Quanta Gente Veio ver--Bônus De Carnaval                                                         27      \n",
            "88       Faceless                                                                                         87      \n",
            "89       American Idiot                                                                                   54      \n",
            "90       Appetite for Destruction                                                                         88      \n",
            "91       Use Your Illusion I                                                                              88      \n",
            "92       Use Your Illusion II                                                                             88      \n",
            "93       Blue Moods                                                                                       89      \n",
            "94       A Matter of Life and Death                                                                       90      \n",
            "95       A Real Dead One                                                                                  90      \n",
            "96       A Real Live One                                                                                  90      \n",
            "97       Brave New World                                                                                  90      \n",
            "98       Dance Of Death                                                                                   90      \n",
            "99       Fear Of The Dark                                                                                 90      \n",
            "100      Iron Maiden                                                                                      90      \n",
            "101      Killers                                                                                          90      \n",
            "102      Live After Death                                                                                 90      \n",
            "103      Live At Donington 1992 (Disc 1)                                                                  90      \n",
            "104      Live At Donington 1992 (Disc 2)                                                                  90      \n",
            "105      No Prayer For The Dying                                                                          90      \n",
            "106      Piece Of Mind                                                                                    90      \n",
            "107      Powerslave                                                                                       90      \n",
            "108      Rock In Rio [CD1]                                                                                90      \n",
            "109      Rock In Rio [CD2]                                                                                90      \n",
            "110      Seventh Son of a Seventh Son                                                                     90      \n",
            "111      Somewhere in Time                                                                                90      \n",
            "112      The Number of The Beast                                                                          90      \n",
            "113      The X Factor                                                                                     90      \n",
            "114      Virtual XI                                                                                       90      \n",
            "115      Sex Machine                                                                                      91      \n",
            "116      Emergency On Planet Earth                                                                        92      \n",
            "117      Synkronized                                                                                      92      \n",
            "118      The Return Of The Space Cowboy                                                                   92      \n",
            "119      Get Born                                                                                         93      \n",
            "120      Are You Experienced?                                                                             94      \n",
            "121      Surfing with the Alien (Remastered)                                                              95      \n",
            "122      Jorge Ben Jor 25 Anos                                                                            46      \n",
            "123      Jota Quest-1995                                                                                  96      \n",
            "124      Cafezinho                                                                                        97      \n",
            "125      Living After Midnight                                                                            98      \n",
            "126      Unplugged [Live]                                                                                 52      \n",
            "127      BBC Sessions [Disc 2] [Live]                                                                     22      \n",
            "128      Coda                                                                                             22      \n",
            "129      Houses Of The Holy                                                                               22      \n",
            "130      In Through The Out Door                                                                          22      \n",
            "131      IV                                                                                               22      \n",
            "132      Led Zeppelin I                                                                                   22      \n",
            "133      Led Zeppelin II                                                                                  22      \n",
            "134      Led Zeppelin III                                                                                 22      \n",
            "135      Physical Graffiti [Disc 2]                                                                       22      \n",
            "136      Presence                                                                                         22      \n",
            "137      The Song Remains The Same (Disc 1)                                                               22      \n",
            "138      The Song Remains The Same (Disc 2)                                                               22      \n",
            "139      A TempestadeTempestade Ou O Livro Dos Dias                                                       99      \n",
            "140      Mais Do Mesmo                                                                                    99      \n",
            "141      Greatest Hits                                                                                    100     \n",
            "142      Lulu Santos - RCA 100 Anos De Música - Álbum 01                                                  101     \n",
            "143      Lulu Santos - RCA 100 Anos De Música - Álbum 02                                                  101     \n",
            "144      Misplaced Childhood                                                                              102     \n",
            "145      Barulhinho Bom                                                                                   103     \n",
            "146      Seek And Shall Find: More Of The Best (1963-1981)                                                104     \n",
            "147      The Best Of Men At Work                                                                          105     \n",
            "148      Black Album                                                                                      50      \n",
            "149      Garage Inc. (Disc 2)                                                                             50      \n",
            "150      Kill 'Em All                                                                                     50      \n",
            "151      Load                                                                                             50      \n",
            "152      Master Of Puppets                                                                                50      \n",
            "153      ReLoad                                                                                           50      \n",
            "154      Ride The Lightning                                                                               50      \n",
            "155      St. Anger                                                                                        50      \n",
            "156      ...And Justice For All                                                                           50      \n",
            "157      Miles Ahead                                                                                      68      \n",
            "158      Milton Nascimento Ao Vivo                                                                        42      \n",
            "159      Minas                                                                                            42      \n",
            "160      Ace Of Spades                                                                                    106     \n",
            "161      Demorou...                                                                                       108     \n",
            "162      Motley Crue Greatest Hits                                                                        109     \n",
            "163      From The Muddy Banks Of The Wishkah [Live]                                                       110     \n",
            "164      Nevermind                                                                                        110     \n",
            "165      Compositores                                                                                     111     \n",
            "166      Olodum                                                                                           112     \n",
            "167      Acústico MTV                                                                                     113     \n",
            "168      Arquivo II                                                                                       113     \n",
            "169      Arquivo Os Paralamas Do Sucesso                                                                  113     \n",
            "170      Bark at the Moon (Remastered)                                                                    114     \n",
            "171      Blizzard of Ozz                                                                                  114     \n",
            "172      Diary of a Madman (Remastered)                                                                   114     \n",
            "173      No More Tears (Remastered)                                                                       114     \n",
            "174      Tribute                                                                                          114     \n",
            "175      Walking Into Clarksdale                                                                          115     \n",
            "176      Original Soundtracks 1                                                                           116     \n",
            "177      The Beast Live                                                                                   117     \n",
            "178      Live On Two Legs [Live]                                                                          118     \n",
            "179      Pearl Jam                                                                                        118     \n",
            "180      Riot Act                                                                                         118     \n",
            "181      Ten                                                                                              118     \n",
            "182      Vs.                                                                                              118     \n",
            "183      Dark Side Of The Moon                                                                            120     \n",
            "184      Os Cães Ladram Mas A Caravana Não Pára                                                           121     \n",
            "185      Greatest Hits I                                                                                  51      \n",
            "186      News Of The World                                                                                51      \n",
            "187      Out Of Time                                                                                      122     \n",
            "188      Green                                                                                            124     \n",
            "189      New Adventures In Hi-Fi                                                                          124     \n",
            "190      The Best Of R.E.M.: The IRS Years                                                                124     \n",
            "191      Cesta Básica                                                                                     125     \n",
            "192      Raul Seixas                                                                                      126     \n",
            "193      Blood Sugar Sex Magik                                                                            127     \n",
            "194      By The Way                                                                                       127     \n",
            "195      Californication                                                                                  127     \n",
            "196      Retrospective I (1974-1980)                                                                      128     \n",
            "197      Santana - As Years Go By                                                                         59      \n",
            "198      Santana Live                                                                                     59      \n",
            "199      Maquinarama                                                                                      130     \n",
            "200      O Samba Poconé                                                                                   130     \n",
            "201      Judas 0: B-Sides and Rarities                                                                    131     \n",
            "202      Rotten Apples: Greatest Hits                                                                     131     \n",
            "203      A-Sides                                                                                          132     \n",
            "204      Morning Dance                                                                                    53      \n",
            "205      In Step                                                                                          133     \n",
            "206      Core                                                                                             134     \n",
            "207      Mezmerize                                                                                        135     \n",
            "208      [1997] Black Light Syndrome                                                                      136     \n",
            "209      Live [Disc 1]                                                                                    137     \n",
            "210      Live [Disc 2]                                                                                    137     \n",
            "211      The Singles                                                                                      138     \n",
            "212      Beyond Good And Evil                                                                             139     \n",
            "213      Pure Cult: The Best Of The Cult (For Rockers, Ravers, Lovers & Sinners) [UK]                     139     \n",
            "214      The Doors                                                                                        140     \n",
            "215      The Police Greatest Hits                                                                         141     \n",
            "216      Hot Rocks, 1964-1971 (Disc 1)                                                                    142     \n",
            "217      No Security                                                                                      142     \n",
            "218      Voodoo Lounge                                                                                    142     \n",
            "219      Tangents                                                                                         143     \n",
            "220      Transmission                                                                                     143     \n",
            "221      My Generation - The Very Best Of The Who                                                         144     \n",
            "222      Serie Sem Limite (Disc 1)                                                                        145     \n",
            "223      Serie Sem Limite (Disc 2)                                                                        145     \n",
            "224      Acústico                                                                                         146     \n",
            "225      Volume Dois                                                                                      146     \n",
            "226      Battlestar Galactica: The Story So Far                                                           147     \n",
            "227      Battlestar Galactica, Season 3                                                                   147     \n",
            "228      Heroes, Season 1                                                                                 148     \n",
            "229      Lost, Season 3                                                                                   149     \n",
            "230      Lost, Season 1                                                                                   149     \n",
            "231      Lost, Season 2                                                                                   149     \n",
            "232      Achtung Baby                                                                                     150     \n",
            "233      All That You Can't Leave Behind                                                                  150     \n",
            "234      B-Sides 1980-1990                                                                                150     \n",
            "235      How To Dismantle An Atomic Bomb                                                                  150     \n",
            "236      Pop                                                                                              150     \n",
            "237      Rattle And Hum                                                                                   150     \n",
            "238      The Best Of 1980-1990                                                                            150     \n",
            "239      War                                                                                              150     \n",
            "240      Zooropa                                                                                          150     \n",
            "241      UB40 The Best Of - Volume Two [UK]                                                               151     \n",
            "242      Diver Down                                                                                       152     \n",
            "243      The Best Of Van Halen, Vol. I                                                                    152     \n",
            "244      Van Halen                                                                                        152     \n",
            "245      Van Halen III                                                                                    152     \n",
            "246      Contraband                                                                                       153     \n",
            "247      Vinicius De Moraes                                                                               72      \n",
            "248      Ao Vivo [IMPORT]                                                                                 155     \n",
            "249      The Office, Season 1                                                                             156     \n",
            "250      The Office, Season 2                                                                             156     \n",
            "251      The Office, Season 3                                                                             156     \n",
            "252      Un-Led-Ed                                                                                        157     \n",
            "253      Battlestar Galactica (Classic), Season 1                                                         158     \n",
            "254      Aquaman                                                                                          159     \n",
            "255      Instant Karma: The Amnesty International Campaign to Save Darfur                                 150     \n",
            "256      Speak of the Devil                                                                               114     \n",
            "257      20th Century Masters - The Millennium Collection: The Best of Scorpions                          179     \n",
            "258      House of Pain                                                                                    180     \n",
            "259      Radio Brasil (O Som da Jovem Vanguarda) - Seleccao de Henrique Amaro                             36      \n",
            "260      Cake: B-Sides and Rarities                                                                       196     \n",
            "261      LOST, Season 4                                                                                   149     \n",
            "262      Quiet Songs                                                                                      197     \n",
            "263      Muso Ko                                                                                          198     \n",
            "264      Realize                                                                                          199     \n",
            "265      Every Kind of Light                                                                              200     \n",
            "266      Duos II                                                                                          201     \n",
            "267      Worlds                                                                                           202     \n",
            "268      The Best of Beethoven                                                                            203     \n",
            "269      Temple of the Dog                                                                                204     \n",
            "270      Carry On                                                                                         205     \n",
            "271      Revelations                                                                                      8       \n",
            "272      Adorate Deum: Gregorian Chant from the Proper of the Mass                                        206     \n",
            "273      Allegri: Miserere                                                                                207     \n",
            "274      Pachelbel: Canon & Gigue                                                                         208     \n",
            "275      Vivaldi: The Four Seasons                                                                        209     \n",
            "276      Bach: Violin Concertos                                                                           210     \n",
            "277      Bach: Goldberg Variations                                                                        211     \n",
            "278      Bach: The Cello Suites                                                                           212     \n",
            "279      Handel: The Messiah (Highlights)                                                                 213     \n",
            "280      The World of Classical Favourites                                                                214     \n",
            "281      Sir Neville Marriner: A Celebration                                                              215     \n",
            "282      Mozart: Wind Concertos                                                                           216     \n",
            "283      Haydn: Symphonies 99 - 104                                                                       217     \n",
            "284      Beethoven: Symhonies Nos. 5 & 6                                                                  218     \n",
            "285      A Soprano Inspired                                                                               219     \n",
            "286      Great Opera Choruses                                                                             220     \n",
            "287      Wagner: Favourite Overtures                                                                      221     \n",
            "288      Fauré: Requiem, Ravel: Pavane & Others                                                           222     \n",
            "289      Tchaikovsky: The Nutcracker                                                                      223     \n",
            "290      The Last Night of the Proms                                                                      224     \n",
            "291      Puccini: Madama Butterfly - Highlights                                                           225     \n",
            "292      Holst: The Planets, Op. 32 & Vaughan Williams: Fantasies                                         226     \n",
            "293      Pavarotti's Opera Made Easy                                                                      227     \n",
            "294      Great Performances - Barber's Adagio and Other Romantic Favorites for Strings                    228     \n",
            "295      Carmina Burana                                                                                   229     \n",
            "296      A Copland Celebration, Vol. I                                                                    230     \n",
            "297      Bach: Toccata & Fugue in D Minor                                                                 231     \n",
            "298      Prokofiev: Symphony No.1                                                                         232     \n",
            "299      Scheherazade                                                                                     233     \n",
            "300      Bach: The Brandenburg Concertos                                                                  234     \n",
            "301      Chopin: Piano Concertos Nos. 1 & 2                                                               235     \n",
            "302      Mascagni: Cavalleria Rusticana                                                                   236     \n",
            "303      Sibelius: Finlandia                                                                              237     \n",
            "304      Beethoven Piano Sonatas: Moonlight & Pastorale                                                   238     \n",
            "305      Great Recordings of the Century - Mahler: Das Lied von der Erde                                  240     \n",
            "306      Elgar: Cello Concerto & Vaughan Williams: Fantasias                                              241     \n",
            "307      Adams, John: The Chairman Dances                                                                 242     \n",
            "308      Tchaikovsky: 1812 Festival Overture, Op.49, Capriccio Italien & Beethoven: Wellington's Victory  243     \n",
            "309      Palestrina: Missa Papae Marcelli & Allegri: Miserere                                             244     \n",
            "310      Prokofiev: Romeo & Juliet                                                                        245     \n",
            "311      Strauss: Waltzes                                                                                 226     \n",
            "312      Berlioz: Symphonie Fantastique                                                                   245     \n",
            "313      Bizet: Carmen Highlights                                                                         246     \n",
            "314      English Renaissance                                                                              247     \n",
            "315      Handel: Music for the Royal Fireworks (Original Version 1749)                                    208     \n",
            "316      Grieg: Peer Gynt Suites & Sibelius: Pelléas et Mélisande                                         248     \n",
            "317      Mozart Gala: Famous Arias                                                                        249     \n",
            "318      SCRIABIN: Vers la flamme                                                                         250     \n",
            "319      Armada: Music from the Courts of England and Spain                                               251     \n",
            "320      Mozart: Symphonies Nos. 40 & 41                                                                  248     \n",
            "321      Back to Black                                                                                    252     \n",
            "322      Frank                                                                                            252     \n",
            "323      Carried to Dust (Bonus Track Version)                                                            253     \n",
            "324      Beethoven: Symphony No. 6 'Pastoral' Etc.                                                        254     \n",
            "325      Bartok: Violin & Viola Concertos                                                                 255     \n",
            "326      Mendelssohn: A Midsummer Night's Dream                                                           256     \n",
            "327      Bach: Orchestral Suites Nos. 1 - 4                                                               257     \n",
            "328      Charpentier: Divertissements, Airs & Concerts                                                    258     \n",
            "329      South American Getaway                                                                           259     \n",
            "330      Górecki: Symphony No. 3                                                                          260     \n",
            "331      Purcell: The Fairy Queen                                                                         261     \n",
            "332      The Ultimate Relexation Album                                                                    262     \n",
            "333      Purcell: Music for the Queen Mary                                                                263     \n",
            "334      Weill: The Seven Deadly Sins                                                                     264     \n",
            "335      J.S. Bach: Chaconne, Suite in E Minor, Partita in E Major & Prelude, Fugue and Allegro           265     \n",
            "336      Prokofiev: Symphony No.5 & Stravinksy: Le Sacre Du Printemps                                     248     \n",
            "337      Szymanowski: Piano Works, Vol. 1                                                                 266     \n",
            "338      Nielsen: The Six Symphonies                                                                      267     \n",
            "339      Great Recordings of the Century: Paganini's 24 Caprices                                          268     \n",
            "340      Liszt - 12 Études D'Execution Transcendante                                                      269     \n",
            "341      Great Recordings of the Century - Shubert: Schwanengesang, 4 Lieder                              270     \n",
            "342      Locatelli: Concertos for Violin, Strings and Continuo, Vol. 3                                    271     \n",
            "343      Respighi:Pines of Rome                                                                           226     \n",
            "344      Schubert: The Late String Quartets & String Quintet (3 CD's)                                     272     \n",
            "345      Monteverdi: L'Orfeo                                                                              273     \n",
            "346      Mozart: Chamber Music                                                                            274     \n",
            "347      Koyaanisqatsi (Soundtrack from the Motion Picture)                                               275     \n"
          ]
        }
      ]
    },
    {
      "cell_type": "code",
      "source": [
        "#Is the employee base multinational? NO, all employees appear to be FROM Canada\n",
        "%%script sqlite3 --column --header chinook.db\n",
        "SELECT distinct country\n",
        "FROM employees\n",
        "ORDER BY country;"
      ],
      "metadata": {
        "id": "jCeD9YcGQSIF",
        "colab": {
          "base_uri": "https://localhost:8080/"
        },
        "outputId": "7bcd4a7d-3376-4629-f233-346b5d3ea8b4"
      },
      "execution_count": null,
      "outputs": [
        {
          "output_type": "stream",
          "name": "stdout",
          "text": [
            "Country\n",
            "-------\n",
            "Canada \n"
          ]
        }
      ]
    },
    {
      "cell_type": "code",
      "source": [
        "#WHERE in Canada?\n",
        "%%script sqlite3 --column --header chinook.db\n",
        "SELECT distinct city\n",
        "FROM employees\n",
        "ORDER BY city;"
      ],
      "metadata": {
        "id": "FCYMKDVCRUFX",
        "collapsed": true,
        "colab": {
          "base_uri": "https://localhost:8080/"
        },
        "outputId": "b1cc0f0c-788f-4733-bba1-33eca1b3bb3c"
      },
      "execution_count": null,
      "outputs": [
        {
          "output_type": "stream",
          "name": "stdout",
          "text": [
            "City      \n",
            "----------\n",
            "Calgary   \n",
            "Edmonton  \n",
            "Lethbridge\n"
          ]
        }
      ]
    },
    {
      "cell_type": "code",
      "source": [
        "#How many employees overall-we cannot know about active as there is not a term date? 8\n",
        "%%script sqlite3 --column --header chinook.db\n",
        "SELECT count(*)\n",
        "FROM employees"
      ],
      "metadata": {
        "id": "awRAE14cSINq",
        "colab": {
          "base_uri": "https://localhost:8080/"
        },
        "outputId": "b2552509-df32-49b8-a05d-0f6e9d95f5f9"
      },
      "execution_count": null,
      "outputs": [
        {
          "output_type": "stream",
          "name": "stdout",
          "text": [
            "count(*)\n",
            "--------\n",
            "8       \n"
          ]
        }
      ]
    },
    {
      "cell_type": "markdown",
      "source": [
        "#### WHERE\n"
      ],
      "metadata": {
        "id": "dRvXfTGEtkdQ"
      }
    },
    {
      "cell_type": "code",
      "source": [
        "#Noted that Country could be null in customer Table; we need to make sure there are no nulls for any aggregations using this.\n",
        "%%script sqlite3 --column --header chinook.db\n",
        "SELECT count(*)\n",
        "FROM customers\n",
        "WHERE country is null"
      ],
      "metadata": {
        "id": "0oNobfUnt_4Z",
        "collapsed": true,
        "colab": {
          "base_uri": "https://localhost:8080/"
        },
        "outputId": "4a5f50ea-1f9b-43b7-fae1-a299fa8817af"
      },
      "execution_count": null,
      "outputs": [
        {
          "output_type": "stream",
          "name": "stdout",
          "text": [
            "count(*)\n",
            "--------\n",
            "0       \n"
          ]
        }
      ]
    },
    {
      "cell_type": "markdown",
      "source": [
        "#### WHERE with AND Combined"
      ],
      "metadata": {
        "id": "_jwabLqRBdlX"
      }
    },
    {
      "cell_type": "markdown",
      "source": [],
      "metadata": {
        "id": "VOmW1CjWBg9j"
      }
    },
    {
      "cell_type": "code",
      "source": [
        "%%script sqlite3 --column --header chinook.db\n",
        "#Quasi price list employing WHERE to join to arrive at menu of pricing.\n",
        "SELECT distinct media_types.MediaTypeid, media_types.Name, tracks.Genreid, genres.Name, tracks.UnitPrice\n",
        "FROM media_types, tracks, genres\n",
        "WHERE media_types.MediaTypeid = tracks.MediaTypeid AND genres.Genreid = tracks.Genreid;"
      ],
      "metadata": {
        "collapsed": true,
        "id": "zgifssk-9X2f",
        "colab": {
          "base_uri": "https://localhost:8080/"
        },
        "outputId": "d1409303-bc2f-46d2-d5b8-824bfd4eff33"
      },
      "execution_count": null,
      "outputs": [
        {
          "output_type": "stream",
          "name": "stdout",
          "text": [
            "MediaTypeId  Name                         GenreId  Name                UnitPrice\n",
            "-----------  ---------------------------  -------  ------------------  ---------\n",
            "1            MPEG audio file              1        Rock                0.99     \n",
            "1            MPEG audio file              2        Jazz                0.99     \n",
            "1            MPEG audio file              3        Metal               0.99     \n",
            "1            MPEG audio file              4        Alternative & Punk  0.99     \n",
            "1            MPEG audio file              5        Rock And Roll       0.99     \n",
            "1            MPEG audio file              6        Blues               0.99     \n",
            "1            MPEG audio file              7        Latin               0.99     \n",
            "1            MPEG audio file              8        Reggae              0.99     \n",
            "1            MPEG audio file              9        Pop                 0.99     \n",
            "1            MPEG audio file              10       Soundtrack          0.99     \n",
            "1            MPEG audio file              11       Bossa Nova          0.99     \n",
            "1            MPEG audio file              12       Easy Listening      0.99     \n",
            "1            MPEG audio file              13       Heavy Metal         0.99     \n",
            "1            MPEG audio file              14       R&B/Soul            0.99     \n",
            "1            MPEG audio file              15       Electronica/Dance   0.99     \n",
            "1            MPEG audio file              16       World               0.99     \n",
            "1            MPEG audio file              17       Hip Hop/Rap         0.99     \n",
            "2            Protected AAC audio file     1        Rock                0.99     \n",
            "2            Protected AAC audio file     9        Pop                 0.99     \n",
            "2            Protected AAC audio file     23       Alternative         0.99     \n",
            "2            Protected AAC audio file     24       Classical           0.99     \n",
            "2            Protected AAC audio file     25       Opera               0.99     \n",
            "2            Protected AAC audio file     14       R&B/Soul            0.99     \n",
            "2            Protected AAC audio file     10       Soundtrack          0.99     \n",
            "3            Protected MPEG-4 video file  18       Science Fiction     1.99     \n",
            "3            Protected MPEG-4 video file  19       TV Shows            1.99     \n",
            "3            Protected MPEG-4 video file  20       Sci Fi & Fantasy    1.99     \n",
            "3            Protected MPEG-4 video file  21       Drama               1.99     \n",
            "3            Protected MPEG-4 video file  22       Comedy              1.99     \n",
            "3            Protected MPEG-4 video file  23       Alternative         0.99     \n",
            "4            Purchased AAC audio file     23       Alternative         0.99     \n",
            "4            Purchased AAC audio file     24       Classical           0.99     \n",
            "5            AAC audio file               2        Jazz                0.99     \n",
            "5            AAC audio file               16       World               0.99     \n",
            "5            AAC audio file               15       Electronica/Dance   0.99     \n",
            "5            AAC audio file               1        Rock                0.99     \n",
            "5            AAC audio file               7        Latin               0.99     \n",
            "5            AAC audio file               24       Classical           0.99     \n"
          ]
        }
      ]
    },
    {
      "cell_type": "markdown",
      "source": [
        "#### LIKE (with % or _ wildcard)\n"
      ],
      "metadata": {
        "id": "-csoeatGtpRq"
      }
    },
    {
      "cell_type": "code",
      "source": [
        "#Are there any other customers with my name:Anna?\n",
        "%%script sqlite3 --column --header chinook.db\n",
        "SELECT *\n",
        "FROM customers\n",
        "WHERE FirstName LIKE 'A%' OR LastName LIKE 'Lov%'"
      ],
      "metadata": {
        "id": "UB3EyaRRt9ki",
        "collapsed": true,
        "colab": {
          "base_uri": "https://localhost:8080/"
        },
        "outputId": "e846427e-fa94-4d65-ef73-d66156765683"
      },
      "execution_count": null,
      "outputs": [
        {
          "output_type": "stream",
          "name": "stdout",
          "text": [
            "CustomerId  FirstName  LastName  Company               Address                               City       State  Country  PostalCode  Phone               Fax                 Email                   SupportRepId\n",
            "----------  ---------  --------  --------------------  ------------------------------------  ---------  -----  -------  ----------  ------------------  ------------------  ----------------------  ------------\n",
            "7           Astrid     Gruber                          Rotenturmstraße 4, 1010 Innere Stadt  Vienne            Austria  1010        +43 01 5134505                          astrid.gruber@apple.at  5           \n",
            "11          Alexandre  Rocha     Banco do Brasil S.A.  Av. Paulista, 2022                    São Paulo  SP     Brazil   01310-200   +55 (11) 3055-3278  +55 (11) 3055-8131  alero@uol.com.br        5           \n",
            "32          Aaron      Mitchell                        696 Osborne Street                    Winnipeg   MB     Canada   R3L 2B9     +1 (204) 452-6452                       aaronmitchell@yahoo.ca  4           \n"
          ]
        }
      ]
    },
    {
      "cell_type": "markdown",
      "source": [
        "#### LIMIT\n",
        "\n"
      ],
      "metadata": {
        "id": "3BqrCUPBtqpX"
      }
    },
    {
      "cell_type": "code",
      "source": [
        "#Total Sales by Customer and Country\n",
        "%%script sqlite3 --column --header chinook.db\n"
      ],
      "metadata": {
        "id": "BMmNLsNhCjHu"
      },
      "execution_count": null,
      "outputs": []
    },
    {
      "cell_type": "markdown",
      "source": [
        "### Sorting and Grouping\n"
      ],
      "metadata": {
        "id": "a4DtPW7ytrU7"
      }
    },
    {
      "cell_type": "code",
      "source": [
        "#Is this a multinational distributor? YES\n",
        "%%script sqlite3 --column --header chinook.db\n",
        "SELECT distinct country\n",
        "FROM customers\n",
        "ORDER BY country\n"
      ],
      "metadata": {
        "id": "8slKgFpsuBCh",
        "colab": {
          "base_uri": "https://localhost:8080/"
        },
        "outputId": "b236bfae-ce8e-47ad-831e-d6ad32ec568a"
      },
      "execution_count": null,
      "outputs": [
        {
          "output_type": "stream",
          "name": "stdout",
          "text": [
            "Country       \n",
            "--------------\n",
            "Argentina     \n",
            "Australia     \n",
            "Austria       \n",
            "Belgium       \n",
            "Brazil        \n",
            "Canada        \n",
            "Chile         \n",
            "Czech Republic\n",
            "Denmark       \n",
            "Finland       \n",
            "France        \n",
            "Germany       \n",
            "Hungary       \n",
            "India         \n",
            "Ireland       \n",
            "Italy         \n",
            "Netherlands   \n",
            "Norway        \n",
            "Poland        \n",
            "Portugal      \n",
            "Spain         \n",
            "Sweden        \n",
            "USA           \n",
            "United Kingdom\n"
          ]
        }
      ]
    },
    {
      "cell_type": "code",
      "source": [
        "#How many customers per country, if more than 1\n",
        "%%script sqlite3 --column --header chinook.db\n",
        "SELECT country, count(*)\n",
        "  FROM customers\n",
        "  group BY country\n",
        "  having count(*) > 1\n",
        "  ORDER BY count(*) DESC\n"
      ],
      "metadata": {
        "id": "H1tgAAFtt_Yy",
        "colab": {
          "base_uri": "https://localhost:8080/"
        },
        "outputId": "8c6e16cd-41da-4bf5-db78-8859020d3f7b"
      },
      "execution_count": null,
      "outputs": [
        {
          "output_type": "stream",
          "name": "stdout",
          "text": [
            "Country         count(*)\n",
            "--------------  --------\n",
            "USA             13      \n",
            "Canada          8       \n",
            "France          5       \n",
            "Brazil          5       \n",
            "Germany         4       \n",
            "United Kingdom  3       \n",
            "Portugal        2       \n",
            "India           2       \n",
            "Czech Republic  2       \n"
          ]
        }
      ]
    },
    {
      "cell_type": "markdown",
      "source": [
        "#### ORDER BY\n"
      ],
      "metadata": {
        "id": "SneUyw4Xtr-U"
      }
    },
    {
      "cell_type": "code",
      "source": [
        "#Okay, now how many customers per country?\n",
        "%%script sqlite3 --column --header chinook.db\n",
        "SELECT country, count(*)\n",
        "FROM customers\n",
        "group BY country\n",
        "ORDER BY count(*) DESC"
      ],
      "metadata": {
        "id": "Vp0tFjJshCsv",
        "collapsed": true,
        "colab": {
          "base_uri": "https://localhost:8080/"
        },
        "outputId": "d2baed78-f892-4444-86fe-6c9722facd89"
      },
      "execution_count": null,
      "outputs": [
        {
          "output_type": "stream",
          "name": "stdout",
          "text": [
            "Country         count(*)\n",
            "--------------  --------\n",
            "USA             13      \n",
            "Canada          8       \n",
            "France          5       \n",
            "Brazil          5       \n",
            "Germany         4       \n",
            "United Kingdom  3       \n",
            "Portugal        2       \n",
            "India           2       \n",
            "Czech Republic  2       \n",
            "Sweden          1       \n",
            "Spain           1       \n",
            "Poland          1       \n",
            "Norway          1       \n",
            "Netherlands     1       \n",
            "Italy           1       \n",
            "Ireland         1       \n",
            "Hungary         1       \n",
            "Finland         1       \n",
            "Denmark         1       \n",
            "Chile           1       \n",
            "Belgium         1       \n",
            "Austria         1       \n",
            "Australia       1       \n",
            "Argentina       1       \n"
          ]
        }
      ]
    },
    {
      "cell_type": "markdown",
      "source": [
        "#### SUM\n"
      ],
      "metadata": {
        "id": "nLYsB9M8twMf"
      }
    },
    {
      "cell_type": "code",
      "source": [
        "#Look at total sales BY Billing Country; not much is this a new company?  See MIN & MAX sale dates below\n",
        "%%script sqlite3 --column --header chinook.db\n",
        "SELECT billingcountry, sum(Total)\n",
        "FROM invoices\n",
        "group BY billingcountry\n",
        "ORDER BY sum(Total) DESC"
      ],
      "metadata": {
        "id": "boteNZuwXixj",
        "collapsed": true,
        "colab": {
          "base_uri": "https://localhost:8080/"
        },
        "outputId": "52a02d23-4ab6-49ec-96fe-b628ba15466c"
      },
      "execution_count": null,
      "outputs": [
        {
          "output_type": "stream",
          "name": "stdout",
          "text": [
            "BillingCountry  sum(Total)\n",
            "--------------  ----------\n",
            "USA             523.06    \n",
            "Canada          303.96    \n",
            "France          195.1     \n",
            "Brazil          190.1     \n",
            "Germany         156.48    \n",
            "United Kingdom  112.86    \n",
            "Czech Republic  90.24     \n",
            "Portugal        77.24     \n",
            "India           75.26     \n",
            "Chile           46.62     \n",
            "Ireland         45.62     \n",
            "Hungary         45.62     \n",
            "Austria         42.62     \n",
            "Finland         41.62     \n",
            "Netherlands     40.62     \n",
            "Norway          39.62     \n",
            "Sweden          38.62     \n",
            "Poland          37.62     \n",
            "Italy           37.62     \n",
            "Denmark         37.62     \n",
            "Australia       37.62     \n",
            "Argentina       37.62     \n",
            "Spain           37.62     \n",
            "Belgium         37.62     \n"
          ]
        }
      ]
    },
    {
      "cell_type": "markdown",
      "source": [
        "#### DISTINCT\n"
      ],
      "metadata": {
        "id": "Y22yRW5Wtsl1"
      }
    },
    {
      "cell_type": "code",
      "source": [
        "#Are all employees in the same location? NO, looks like 3 different locations.\n",
        "%%script sqlite3 --column --header chinook.db\n",
        "SELECT distinct city, state, country\n",
        "FROM employees\n",
        "ORDER BY country;"
      ],
      "metadata": {
        "id": "RGkf7Qh1t7Cm",
        "collapsed": true,
        "colab": {
          "base_uri": "https://localhost:8080/"
        },
        "outputId": "5513442c-1b4b-4433-9bc4-3abc9166e224"
      },
      "execution_count": null,
      "outputs": [
        {
          "output_type": "stream",
          "name": "stdout",
          "text": [
            "City        State  Country\n",
            "----------  -----  -------\n",
            "Edmonton    AB     Canada \n",
            "Calgary     AB     Canada \n",
            "Lethbridge  AB     Canada \n"
          ]
        }
      ]
    },
    {
      "cell_type": "markdown",
      "source": [
        "#### MAX\n"
      ],
      "metadata": {
        "id": "spacz18MtvBo"
      }
    },
    {
      "cell_type": "code",
      "source": [
        "%%script sqlite3 --column --header chinook.db\n",
        "SELECT MAX(InvoiceDate) AS LatestDate\n",
        "FROM invoices;\n",
        "#last sale date"
      ],
      "metadata": {
        "id": "KAYeuNXdYRbK",
        "colab": {
          "base_uri": "https://localhost:8080/"
        },
        "outputId": "d9ab856f-70f2-410d-99d9-e8ccc7e84ed7"
      },
      "execution_count": null,
      "outputs": [
        {
          "output_type": "stream",
          "name": "stdout",
          "text": [
            "LatestDate         \n",
            "-------------------\n",
            "2013-12-22 00:00:00\n"
          ]
        }
      ]
    },
    {
      "cell_type": "code",
      "source": [
        "#Which track comprises the MAX milliseconds?\n",
        "%%script sqlite3 --column --header chinook.db\n",
        "SELECT name, MediaTypeid, milliseconds\n",
        "FROM tracks\n",
        "WHERE milliseconds = (SELECT MAX(milliseconds) FROM tracks);"
      ],
      "metadata": {
        "id": "rSII6arwZB8G",
        "colab": {
          "base_uri": "https://localhost:8080/"
        },
        "outputId": "4b8902d2-adb1-4beb-bbec-e0ca0be54b22"
      },
      "execution_count": null,
      "outputs": [
        {
          "output_type": "stream",
          "name": "stdout",
          "text": [
            "Name                    MediaTypeId  Milliseconds\n",
            "----------------------  -----------  ------------\n",
            "Occupation / Precipice  3            5286953     \n"
          ]
        }
      ]
    },
    {
      "cell_type": "markdown",
      "source": [
        "#### MIN\n"
      ],
      "metadata": {
        "id": "V0z33BTztvoP"
      }
    },
    {
      "cell_type": "code",
      "source": [
        "%%script sqlite3 --column --header chinook.db\n",
        "SELECT MIN(InvoiceDate) AS EarliestDate\n",
        "FROM invoices;\n",
        "#first sale date"
      ],
      "metadata": {
        "id": "ishdZ9K3t1fh",
        "colab": {
          "base_uri": "https://localhost:8080/"
        },
        "outputId": "e05e3449-0000-48fa-8d15-90e13c8fc5d3"
      },
      "execution_count": null,
      "outputs": [
        {
          "output_type": "stream",
          "name": "stdout",
          "text": [
            "EarliestDate       \n",
            "-------------------\n",
            "2009-01-01 00:00:00\n"
          ]
        }
      ]
    },
    {
      "cell_type": "markdown",
      "source": [
        "#### BETWEEN\n"
      ],
      "metadata": {
        "id": "BV8kQ-9FtqGY"
      }
    },
    {
      "cell_type": "code",
      "source": [
        "%%script sqlite3 --column --header chinook.db\n",
        "\n",
        "SELECT InvoiceDate, sum(Total)\n",
        "FROM invoices\n",
        "WHERE InvoiceDate BETWEEN \"2009-01-01 00:00:00\" AND \"2013-12-31 00:00:00\";"
      ],
      "metadata": {
        "id": "ba-Ltm5DDTvH",
        "colab": {
          "base_uri": "https://localhost:8080/"
        },
        "outputId": "e96f4e6c-a7a7-4b9c-e617-d8e5d21c9a37"
      },
      "execution_count": null,
      "outputs": [
        {
          "output_type": "stream",
          "name": "stdout",
          "text": [
            "InvoiceDate          sum(Total)\n",
            "-------------------  ----------\n",
            "2009-01-01 00:00:00  2328.6    \n"
          ]
        }
      ]
    },
    {
      "cell_type": "markdown",
      "source": [
        "#### GROUP BY\n",
        "\n"
      ],
      "metadata": {
        "id": "Q0mwAOgettPz"
      }
    },
    {
      "cell_type": "code",
      "source": [
        "#Total sales BY country\n",
        "%%script sqlite3 --column --header chinook.db\n",
        "SELECT BillingCountry, sum(Total)\n",
        "FROM invoices\n",
        "GROUP BY BillingCountry\n",
        "ORDER BY sum(Total) DESC;"
      ],
      "metadata": {
        "id": "aoVDwom0t0zN",
        "collapsed": true,
        "colab": {
          "base_uri": "https://localhost:8080/"
        },
        "outputId": "62bf4ca9-7a38-4ab0-d42e-2e013a3546d8"
      },
      "execution_count": null,
      "outputs": [
        {
          "output_type": "stream",
          "name": "stdout",
          "text": [
            "BillingCountry  sum(Total)\n",
            "--------------  ----------\n",
            "USA             523.06    \n",
            "Canada          303.96    \n",
            "France          195.1     \n",
            "Brazil          190.1     \n",
            "Germany         156.48    \n",
            "United Kingdom  112.86    \n",
            "Czech Republic  90.24     \n",
            "Portugal        77.24     \n",
            "India           75.26     \n",
            "Chile           46.62     \n",
            "Ireland         45.62     \n",
            "Hungary         45.62     \n",
            "Austria         42.62     \n",
            "Finland         41.62     \n",
            "Netherlands     40.62     \n",
            "Norway          39.62     \n",
            "Sweden          38.62     \n",
            "Poland          37.62     \n",
            "Italy           37.62     \n",
            "Denmark         37.62     \n",
            "Australia       37.62     \n",
            "Argentina       37.62     \n",
            "Spain           37.62     \n",
            "Belgium         37.62     \n"
          ]
        }
      ]
    },
    {
      "cell_type": "markdown",
      "source": [
        "#### AVG\n"
      ],
      "metadata": {
        "id": "0yI5K0Z5twwB"
      }
    },
    {
      "cell_type": "code",
      "source": [
        "#Inception to Date, Average Order BY Country\n",
        "%%script sqlite3 --column --header chinook.db\n",
        "SELECT * FROM\n",
        "(SELECT BillingCountry, ROUND(avg(Total), 2), sum(Total)\n",
        "FROM invoices\n",
        "GROUP BY BillingCountry\n",
        "ORDER BY avg(Total)) Ref"
      ],
      "metadata": {
        "colab": {
          "base_uri": "https://localhost:8080/"
        },
        "id": "aZSOTw9eKqrX",
        "outputId": "fe0b6641-396b-4437-c210-12d39bffa64b"
      },
      "execution_count": null,
      "outputs": [
        {
          "output_type": "stream",
          "name": "stdout",
          "text": [
            "BillingCountry  ROUND(avg(Total), 2)  sum(Total)\n",
            "--------------  --------------------  ----------\n",
            "Belgium         5.37                  37.62     \n",
            "Spain           5.37                  37.62     \n",
            "United Kingdom  5.37                  112.86    \n",
            "Argentina       5.37                  37.62     \n",
            "Australia       5.37                  37.62     \n",
            "Denmark         5.37                  37.62     \n",
            "Italy           5.37                  37.62     \n",
            "Poland          5.37                  37.62     \n",
            "Canada          5.43                  303.96    \n",
            "Brazil          5.43                  190.1     \n",
            "Portugal        5.52                  77.24     \n",
            "Sweden          5.52                  38.62     \n",
            "France          5.57                  195.1     \n",
            "Germany         5.59                  156.48    \n",
            "Norway          5.66                  39.62     \n",
            "USA             5.75                  523.06    \n",
            "India           5.79                  75.26     \n",
            "Netherlands     5.8                   40.62     \n",
            "Finland         5.95                  41.62     \n",
            "Austria         6.09                  42.62     \n",
            "Czech Republic  6.45                  90.24     \n",
            "Hungary         6.52                  45.62     \n",
            "Ireland         6.52                  45.62     \n",
            "Chile           6.66                  46.62     \n"
          ]
        }
      ]
    },
    {
      "cell_type": "code",
      "source": [
        "import sqlite3\n",
        "#%%script sqlite3 --column --header chinook.db\n",
        "conn = sqlite3.connect('chinook.db')\n",
        "\n",
        "query = \"\"\"\n",
        "SELECT BillingCountry, ROUND(avg(Total), 2) as AVG, sum(Total) as 'TOTAL'\n",
        "FROM invoices\n",
        "GROUP BY BillingCountry\n",
        "ORDER BY avg(TOTAL) DESC;\n",
        "\"\"\"\n",
        "\n",
        "df = pd.read_sql_query(query, conn)\n",
        "df.shape"
      ],
      "metadata": {
        "colab": {
          "base_uri": "https://localhost:8080/"
        },
        "collapsed": true,
        "id": "pAaaAVgqPJ4m",
        "outputId": "29e80f51-45d2-43b1-9aed-3d330f1f566a"
      },
      "execution_count": null,
      "outputs": [
        {
          "output_type": "execute_result",
          "data": {
            "text/plain": [
              "(24, 3)"
            ]
          },
          "metadata": {},
          "execution_count": 80
        }
      ]
    },
    {
      "cell_type": "code",
      "source": [
        "df=pd.read_sql_query(query, conn)\n",
        "df_sorted=df.sort_values(by=['TOTAL'], ascending=False)"
      ],
      "metadata": {
        "collapsed": true,
        "id": "PQiw_EYIAdgA"
      },
      "execution_count": null,
      "outputs": []
    },
    {
      "cell_type": "code",
      "source": [
        "#Plot\n",
        "plt.figure(figsize=(10, 5))\n",
        "plt.bar(df_sorted['BillingCountry'], df_sorted['TOTAL'])\n",
        "plt.xlabel('COUNTRY')\n",
        "plt.ylabel('$ TOTAL SALES')\n",
        "plt.title('$ ALLOCATE SALES BY COUNTRY')\n",
        "plt.xticks(rotation=90)\n",
        "plt.tight_layout()\n",
        "plt.show()"
      ],
      "metadata": {
        "colab": {
          "base_uri": "https://localhost:8080/",
          "height": 507
        },
        "id": "dtxIxk-PBQFG",
        "outputId": "b3598e21-ede2-440b-82e8-5fe37af6ed63"
      },
      "execution_count": null,
      "outputs": [
        {
          "output_type": "display_data",
          "data": {
            "text/plain": [
              "<Figure size 1000x500 with 1 Axes>"
            ],
            "image/png": "[encoded data removed]"
          },
          "metadata": {}
        }
      ]
    },
    {
      "cell_type": "markdown",
      "source": [
        "### Aggregates\n"
      ],
      "metadata": {
        "id": "dJUO6Dh3tt5c"
      }
    },
    {
      "cell_type": "code",
      "source": [
        "%%script sqlite3 --column --header chinook.db\n",
        "#look at this from the customer perspective aggregate, ties to above, and everything seems to be a multiple of 99 cents\n",
        "SELECT I.InvoiceId, C.FirstName, C.LastName, sum(IT.UnitPrice * IT.Quantity) as Total\n",
        "FROM invoice_items IT\n",
        "INNER JOIN invoices I ON I.InvoiceId = IT.InvoiceId\n",
        "INNER JOIN customers C ON C.CustomerId = I.CustomerId\n",
        "GROUP BY I.InvoiceId, C.FirstName, C.LastName\n",
        "limit 10;"
      ],
      "metadata": {
        "id": "HkNbzJ4mtzgD",
        "collapsed": true,
        "colab": {
          "base_uri": "https://localhost:8080/"
        },
        "outputId": "3ce751ba-c09d-4aab-ad83-ab4e7e5b8008"
      },
      "execution_count": null,
      "outputs": [
        {
          "output_type": "stream",
          "name": "stdout",
          "text": [
            "InvoiceId  FirstName  LastName    Total\n",
            "---------  ---------  ----------  -----\n",
            "1          Leonie     Köhler      1.98 \n",
            "2          Bjørn      Hansen      3.96 \n",
            "3          Daan       Peeters     5.94 \n",
            "4          Mark       Philips     8.91 \n",
            "5          John       Gordon      13.86\n",
            "6          Fynn       Zimmermann  0.99 \n",
            "7          Niklas     Schröder    1.98 \n",
            "8          Dominique  Lefebvre    1.98 \n",
            "9          Wyatt      Girard      3.96 \n",
            "10         Hugh       O'Reilly    5.94 \n"
          ]
        }
      ]
    },
    {
      "cell_type": "markdown",
      "source": [
        "#### COUNT\n",
        "\n"
      ],
      "metadata": {
        "id": "JEkDbYyutxX5"
      }
    },
    {
      "cell_type": "code",
      "source": [
        "%%script sqlite3 --column --header chinook.db\n",
        "\n",
        "SELECT count(distinct ArtistID) as artist_inventory\n",
        "FROM `artists`\n",
        ";"
      ],
      "metadata": {
        "id": "OAGWFmqcO-3o",
        "colab": {
          "base_uri": "https://localhost:8080/"
        },
        "outputId": "d3dfae74-875e-4932-b8e0-7c6a768e0da3"
      },
      "execution_count": null,
      "outputs": [
        {
          "output_type": "stream",
          "name": "stdout",
          "text": [
            "artist_inventory\n",
            "----------------\n",
            "275             \n"
          ]
        }
      ]
    },
    {
      "cell_type": "code",
      "source": [
        "%%script sqlite3 --column --header chinook.db\n",
        "\n",
        "SELECT count(distinct AlbumID) as album_inventory\n",
        "FROM `albums`\n",
        ";"
      ],
      "metadata": {
        "id": "NMrvo0jE6LL9",
        "colab": {
          "base_uri": "https://localhost:8080/"
        },
        "outputId": "1c25de35-15e1-484d-f695-0e0099555ce0"
      },
      "execution_count": null,
      "outputs": [
        {
          "output_type": "stream",
          "name": "stdout",
          "text": [
            "album_inventory\n",
            "---------------\n",
            "347            \n"
          ]
        }
      ]
    },
    {
      "cell_type": "code",
      "source": [
        "%%script sqlite3 --column --header chinook.db\n",
        "\n",
        "SELECT count(distinct Customerid) as Customer_Count\n",
        "FROM `customers`\n",
        ";"
      ],
      "metadata": {
        "id": "e0R9ce55gdn1",
        "colab": {
          "base_uri": "https://localhost:8080/"
        },
        "outputId": "723e31f6-6c3a-4fbf-d4c5-e1426b0e1f4c"
      },
      "execution_count": null,
      "outputs": [
        {
          "output_type": "stream",
          "name": "stdout",
          "text": [
            "Customer_Count\n",
            "--------------\n",
            "59            \n"
          ]
        }
      ]
    },
    {
      "cell_type": "markdown",
      "source": [
        "## Make some plots\n",
        "\n",
        "Make some cool plots to go with your data. Write SQL queries to get ONLY the information you need for each plot. (Don't pull ALL the data and then just plot a few columns.)\n",
        "\n"
      ],
      "metadata": {
        "id": "ntL8dHJT57K8"
      }
    },
    {
      "cell_type": "code",
      "source": [],
      "metadata": {
        "id": "SZXIuqBX6L50"
      },
      "execution_count": null,
      "outputs": []
    },
    {
      "cell_type": "markdown",
      "source": [
        "## EXTRA CREDIT:\n",
        "* Use a CTE\n",
        "* Use a query that joins two or more tables.\n",
        "* Make a model to see if you can predict something\n",
        "* Come up with something else cool to do with your data\n"
      ],
      "metadata": {
        "id": "H6QrBn3n58mU"
      }
    },
    {
      "cell_type": "code",
      "source": [
        "%%script sqlite3 --column --header chinook.db\n",
        "#Looking for fixed or variable cost per track.\n",
        "SELECT distinct albums.Title as Cover, tracks.Name as Song, tracks.UnitPrice\n",
        "FROM invoice_items\n",
        "INNER JOIN tracks ON tracks.TrackId = invoice_items.TrackId\n",
        "INNER JOIN albums ON albums.AlbumId = tracks.AlbumId\n",
        "WHERE tracks.UnitPrice > .99\n",
        "ORDER BY Cover, Song;\n",
        "#They look to be television series soundtracks, but we can confirm by adding the media type"
      ],
      "metadata": {
        "collapsed": true,
        "id": "xO3WSBwngv8m",
        "colab": {
          "base_uri": "https://localhost:8080/"
        },
        "outputId": "cdcfc951-efc0-4fb9-b8dc-0427bc05078e"
      },
      "execution_count": null,
      "outputs": [
        {
          "output_type": "stream",
          "name": "stdout",
          "text": [
            "Cover                                     Song                                     UnitPrice\n",
            "----------------------------------------  ---------------------------------------  ---------\n",
            "Aquaman                                   Pilot                                    1.99     \n",
            "Battlestar Galactica (Classic), Season 1  Baltar's Escape                          1.99     \n",
            "Battlestar Galactica (Classic), Season 1  Battlestar Galactica, Pt. 1              1.99     \n",
            "Battlestar Galactica (Classic), Season 1  Battlestar Galactica, Pt. 2              1.99     \n",
            "Battlestar Galactica (Classic), Season 1  Experiment In Terra                      1.99     \n",
            "Battlestar Galactica (Classic), Season 1  Greetings from Earth, Pt. 1              1.99     \n",
            "Battlestar Galactica (Classic), Season 1  Greetings from Earth, Pt. 2              1.99     \n",
            "Battlestar Galactica (Classic), Season 1  Lost Planet of the Gods, Pt. 1           1.99     \n",
            "Battlestar Galactica (Classic), Season 1  Lost Planet of the Gods, Pt. 2           1.99     \n",
            "Battlestar Galactica (Classic), Season 1  Take the Celestra                        1.99     \n",
            "Battlestar Galactica (Classic), Season 1  The Gun On Ice Planet Zero, Pt. 1        1.99     \n",
            "Battlestar Galactica (Classic), Season 1  The Gun On Ice Planet Zero, Pt. 2        1.99     \n",
            "Battlestar Galactica (Classic), Season 1  The Hand of God                          1.99     \n",
            "Battlestar Galactica (Classic), Season 1  The Living Legend, Pt. 1                 1.99     \n",
            "Battlestar Galactica (Classic), Season 1  The Living Legend, Pt. 2                 1.99     \n",
            "Battlestar Galactica (Classic), Season 1  The Long Patrol                          1.99     \n",
            "Battlestar Galactica (Classic), Season 1  The Lost Warrior                         1.99     \n",
            "Battlestar Galactica (Classic), Season 1  The Magnificent Warriors                 1.99     \n",
            "Battlestar Galactica (Classic), Season 1  War of the Gods, Pt. 2                   1.99     \n",
            "Battlestar Galactica, Season 3            A Day In the Life                        1.99     \n",
            "Battlestar Galactica, Season 3            Collaborators                            1.99     \n",
            "Battlestar Galactica, Season 3            Crossroads, Pt. 1                        1.99     \n",
            "Battlestar Galactica, Season 3            Crossroads, Pt. 2                        1.99     \n",
            "Battlestar Galactica, Season 3            Exodus, Pt. 1                            1.99     \n",
            "Battlestar Galactica, Season 3            Exodus, Pt. 2                            1.99     \n",
            "Battlestar Galactica, Season 3            Hero                                     1.99     \n",
            "Battlestar Galactica, Season 3            Occupation / Precipice                   1.99     \n",
            "Battlestar Galactica, Season 3            The Passage                              1.99     \n",
            "Battlestar Galactica, Season 3            The Woman King                           1.99     \n",
            "Battlestar Galactica, Season 3            Unfinished Business                      1.99     \n",
            "Heroes, Season 1                          Better Halves                            1.99     \n",
            "Heroes, Season 1                          Company Man                              1.99     \n",
            "Heroes, Season 1                          Distractions                             1.99     \n",
            "Heroes, Season 1                          Genesis                                  1.99     \n",
            "Heroes, Season 1                          How to Stop an Exploding Man             1.99     \n",
            "Heroes, Season 1                          Nothing to Hide                          1.99     \n",
            "Heroes, Season 1                          One Giant Leap                           1.99     \n",
            "Heroes, Season 1                          Parasite                                 1.99     \n",
            "Heroes, Season 1                          Seven Minutes to Midnight                1.99     \n",
            "Heroes, Season 1                          The Fix                                  1.99     \n",
            "Heroes, Season 1                          The Hard Part                            1.99     \n",
            "LOST, Season 4                            Ji Yeon                                  1.99     \n",
            "LOST, Season 4                            Meet Kevin Johnson                       1.99     \n",
            "LOST, Season 4                            Past, Present, and Future                1.99     \n",
            "LOST, Season 4                            Something Nice Back Home                 1.99     \n",
            "LOST, Season 4                            The Beginning of the End                 1.99     \n",
            "LOST, Season 4                            The Economist                            1.99     \n",
            "LOST, Season 4                            There's No Place Like Home, Pt. 3        1.99     \n",
            "Lost, Season 1                            Born to Run                              1.99     \n",
            "Lost, Season 1                            Deus Ex Machina                          1.99     \n",
            "Lost, Season 1                            Exodus (Part 2) [Season Finale]          1.99     \n",
            "Lost, Season 1                            Homecoming                               1.99     \n",
            "Lost, Season 1                            House of the Rising Sun                  1.99     \n",
            "Lost, Season 1                            Outlaws                                  1.99     \n",
            "Lost, Season 1                            Solitary                                 1.99     \n",
            "Lost, Season 1                            The Moth                                 1.99     \n",
            "Lost, Season 1                            Walkabout                                1.99     \n",
            "Lost, Season 2                            \"?\"                                      1.99     \n",
            "Lost, Season 2                            ...And Found                             1.99     \n",
            "Lost, Season 2                            Adrift                                   1.99     \n",
            "Lost, Season 2                            Dave                                     1.99     \n",
            "Lost, Season 2                            Fire + Water                             1.99     \n",
            "Lost, Season 2                            Live Together, Die Alone, Pt. 1          1.99     \n",
            "Lost, Season 2                            Man of Science, Man of Faith (Premiere)  1.99     \n",
            "Lost, Season 2                            Orientation                              1.99     \n",
            "Lost, Season 2                            S.O.S.                                   1.99     \n",
            "Lost, Season 2                            The 23rd Psalm                           1.99     \n",
            "Lost, Season 2                            The Long Con                             1.99     \n",
            "Lost, Season 2                            The Other 48 Days                        1.99     \n",
            "Lost, Season 2                            The Whole Truth                          1.99     \n",
            "Lost, Season 3                            Catch-22                                 1.99     \n",
            "Lost, Season 3                            Enter 77                                 1.99     \n",
            "Lost, Season 3                            Exposé                                   1.99     \n",
            "Lost, Season 3                            I Do                                     1.99     \n",
            "Lost, Season 3                            Lost Survival Guide                      1.99     \n",
            "Lost, Season 3                            Par Avion                                1.99     \n",
            "Lost, Season 3                            Stranger In a Strange Land               1.99     \n",
            "Lost, Season 3                            The Glass Ballerina                      1.99     \n",
            "Lost, Season 3                            The Man Behind the Curtain               1.99     \n",
            "Lost, Season 3                            Through a Looking Glass                  1.99     \n",
            "Lost, Season 3                            Through the Looking Glass, Pt. 1         1.99     \n",
            "The Office, Season 1                      Diversity Day                            1.99     \n",
            "The Office, Season 1                      Hot Girl                                 1.99     \n",
            "The Office, Season 2                      Christmas Party                          1.99     \n",
            "The Office, Season 2                      Email Surveillance                       1.99     \n",
            "The Office, Season 2                      Halloween                                1.99     \n",
            "The Office, Season 2                      Michael's Birthday                       1.99     \n",
            "The Office, Season 2                      The Carpet                               1.99     \n",
            "The Office, Season 2                      The Dundies                              1.99     \n",
            "The Office, Season 3                      A Benihana Christmas, Pts. 1 & 2         1.99     \n",
            "The Office, Season 3                      Back from Vacation                       1.99     \n",
            "The Office, Season 3                      Branch Closing                           1.99     \n",
            "The Office, Season 3                      Diwali                                   1.99     \n",
            "The Office, Season 3                      Gay Witch Hunt                           1.99     \n",
            "The Office, Season 3                      Phyllis's Wedding                        1.99     \n",
            "The Office, Season 3                      Producer's Cut: The Return               1.99     \n",
            "The Office, Season 3                      Safety Training                          1.99     \n",
            "The Office, Season 3                      The Convention                           1.99     \n",
            "The Office, Season 3                      The Convict                              1.99     \n",
            "The Office, Season 3                      The Coup                                 1.99     \n",
            "The Office, Season 3                      The Initiation                           1.99     \n",
            "The Office, Season 3                      The Job                                  1.99     \n"
          ]
        }
      ]
    },
    {
      "cell_type": "code",
      "source": [
        "%%script sqlite3 --column --header chinook.db\n",
        "#Ah, they are video files, makes sense-Join without Where\n",
        "SELECT distinct albums.Title as Cover, tracks.Name as Song, media_types.Name as format, tracks.UnitPrice\n",
        "FROM invoice_items\n",
        "INNER JOIN tracks ON tracks.TrackId = invoice_items.TrackId\n",
        "INNER JOIN albums ON albums.AlbumId = tracks.AlbumId\n",
        "INNER JOIN Media_types ON media_types.MediaTypeid = tracks.MediaTypeid\n",
        "WHERE tracks.UnitPrice > .99\n",
        "ORDER BY Cover, Song;\n"
      ],
      "metadata": {
        "collapsed": true,
        "id": "hLzYKElgmLJT",
        "colab": {
          "base_uri": "https://localhost:8080/"
        },
        "outputId": "581d7f6a-3952-40b7-bb7f-1036e33d5565"
      },
      "execution_count": null,
      "outputs": [
        {
          "output_type": "stream",
          "name": "stdout",
          "text": [
            "Cover                                     Song                                     format                       UnitPrice\n",
            "----------------------------------------  ---------------------------------------  ---------------------------  ---------\n",
            "Aquaman                                   Pilot                                    Protected MPEG-4 video file  1.99     \n",
            "Battlestar Galactica (Classic), Season 1  Baltar's Escape                          Protected MPEG-4 video file  1.99     \n",
            "Battlestar Galactica (Classic), Season 1  Battlestar Galactica, Pt. 1              Protected MPEG-4 video file  1.99     \n",
            "Battlestar Galactica (Classic), Season 1  Battlestar Galactica, Pt. 2              Protected MPEG-4 video file  1.99     \n",
            "Battlestar Galactica (Classic), Season 1  Experiment In Terra                      Protected MPEG-4 video file  1.99     \n",
            "Battlestar Galactica (Classic), Season 1  Greetings from Earth, Pt. 1              Protected MPEG-4 video file  1.99     \n",
            "Battlestar Galactica (Classic), Season 1  Greetings from Earth, Pt. 2              Protected MPEG-4 video file  1.99     \n",
            "Battlestar Galactica (Classic), Season 1  Lost Planet of the Gods, Pt. 1           Protected MPEG-4 video file  1.99     \n",
            "Battlestar Galactica (Classic), Season 1  Lost Planet of the Gods, Pt. 2           Protected MPEG-4 video file  1.99     \n",
            "Battlestar Galactica (Classic), Season 1  Take the Celestra                        Protected MPEG-4 video file  1.99     \n",
            "Battlestar Galactica (Classic), Season 1  The Gun On Ice Planet Zero, Pt. 1        Protected MPEG-4 video file  1.99     \n",
            "Battlestar Galactica (Classic), Season 1  The Gun On Ice Planet Zero, Pt. 2        Protected MPEG-4 video file  1.99     \n",
            "Battlestar Galactica (Classic), Season 1  The Hand of God                          Protected MPEG-4 video file  1.99     \n",
            "Battlestar Galactica (Classic), Season 1  The Living Legend, Pt. 1                 Protected MPEG-4 video file  1.99     \n",
            "Battlestar Galactica (Classic), Season 1  The Living Legend, Pt. 2                 Protected MPEG-4 video file  1.99     \n",
            "Battlestar Galactica (Classic), Season 1  The Long Patrol                          Protected MPEG-4 video file  1.99     \n",
            "Battlestar Galactica (Classic), Season 1  The Lost Warrior                         Protected MPEG-4 video file  1.99     \n",
            "Battlestar Galactica (Classic), Season 1  The Magnificent Warriors                 Protected MPEG-4 video file  1.99     \n",
            "Battlestar Galactica (Classic), Season 1  War of the Gods, Pt. 2                   Protected MPEG-4 video file  1.99     \n",
            "Battlestar Galactica, Season 3            A Day In the Life                        Protected MPEG-4 video file  1.99     \n",
            "Battlestar Galactica, Season 3            Collaborators                            Protected MPEG-4 video file  1.99     \n",
            "Battlestar Galactica, Season 3            Crossroads, Pt. 1                        Protected MPEG-4 video file  1.99     \n",
            "Battlestar Galactica, Season 3            Crossroads, Pt. 2                        Protected MPEG-4 video file  1.99     \n",
            "Battlestar Galactica, Season 3            Exodus, Pt. 1                            Protected MPEG-4 video file  1.99     \n",
            "Battlestar Galactica, Season 3            Exodus, Pt. 2                            Protected MPEG-4 video file  1.99     \n",
            "Battlestar Galactica, Season 3            Hero                                     Protected MPEG-4 video file  1.99     \n",
            "Battlestar Galactica, Season 3            Occupation / Precipice                   Protected MPEG-4 video file  1.99     \n",
            "Battlestar Galactica, Season 3            The Passage                              Protected MPEG-4 video file  1.99     \n",
            "Battlestar Galactica, Season 3            The Woman King                           Protected MPEG-4 video file  1.99     \n",
            "Battlestar Galactica, Season 3            Unfinished Business                      Protected MPEG-4 video file  1.99     \n",
            "Heroes, Season 1                          Better Halves                            Protected MPEG-4 video file  1.99     \n",
            "Heroes, Season 1                          Company Man                              Protected MPEG-4 video file  1.99     \n",
            "Heroes, Season 1                          Distractions                             Protected MPEG-4 video file  1.99     \n",
            "Heroes, Season 1                          Genesis                                  Protected MPEG-4 video file  1.99     \n",
            "Heroes, Season 1                          How to Stop an Exploding Man             Protected MPEG-4 video file  1.99     \n",
            "Heroes, Season 1                          Nothing to Hide                          Protected MPEG-4 video file  1.99     \n",
            "Heroes, Season 1                          One Giant Leap                           Protected MPEG-4 video file  1.99     \n",
            "Heroes, Season 1                          Parasite                                 Protected MPEG-4 video file  1.99     \n",
            "Heroes, Season 1                          Seven Minutes to Midnight                Protected MPEG-4 video file  1.99     \n",
            "Heroes, Season 1                          The Fix                                  Protected MPEG-4 video file  1.99     \n",
            "Heroes, Season 1                          The Hard Part                            Protected MPEG-4 video file  1.99     \n",
            "LOST, Season 4                            Ji Yeon                                  Protected MPEG-4 video file  1.99     \n",
            "LOST, Season 4                            Meet Kevin Johnson                       Protected MPEG-4 video file  1.99     \n",
            "LOST, Season 4                            Past, Present, and Future                Protected MPEG-4 video file  1.99     \n",
            "LOST, Season 4                            Something Nice Back Home                 Protected MPEG-4 video file  1.99     \n",
            "LOST, Season 4                            The Beginning of the End                 Protected MPEG-4 video file  1.99     \n",
            "LOST, Season 4                            The Economist                            Protected MPEG-4 video file  1.99     \n",
            "LOST, Season 4                            There's No Place Like Home, Pt. 3        Protected MPEG-4 video file  1.99     \n",
            "Lost, Season 1                            Born to Run                              Protected MPEG-4 video file  1.99     \n",
            "Lost, Season 1                            Deus Ex Machina                          Protected MPEG-4 video file  1.99     \n",
            "Lost, Season 1                            Exodus (Part 2) [Season Finale]          Protected MPEG-4 video file  1.99     \n",
            "Lost, Season 1                            Homecoming                               Protected MPEG-4 video file  1.99     \n",
            "Lost, Season 1                            House of the Rising Sun                  Protected MPEG-4 video file  1.99     \n",
            "Lost, Season 1                            Outlaws                                  Protected MPEG-4 video file  1.99     \n",
            "Lost, Season 1                            Solitary                                 Protected MPEG-4 video file  1.99     \n",
            "Lost, Season 1                            The Moth                                 Protected MPEG-4 video file  1.99     \n",
            "Lost, Season 1                            Walkabout                                Protected MPEG-4 video file  1.99     \n",
            "Lost, Season 2                            \"?\"                                      Protected MPEG-4 video file  1.99     \n",
            "Lost, Season 2                            ...And Found                             Protected MPEG-4 video file  1.99     \n",
            "Lost, Season 2                            Adrift                                   Protected MPEG-4 video file  1.99     \n",
            "Lost, Season 2                            Dave                                     Protected MPEG-4 video file  1.99     \n",
            "Lost, Season 2                            Fire + Water                             Protected MPEG-4 video file  1.99     \n",
            "Lost, Season 2                            Live Together, Die Alone, Pt. 1          Protected MPEG-4 video file  1.99     \n",
            "Lost, Season 2                            Man of Science, Man of Faith (Premiere)  Protected MPEG-4 video file  1.99     \n",
            "Lost, Season 2                            Orientation                              Protected MPEG-4 video file  1.99     \n",
            "Lost, Season 2                            S.O.S.                                   Protected MPEG-4 video file  1.99     \n",
            "Lost, Season 2                            The 23rd Psalm                           Protected MPEG-4 video file  1.99     \n",
            "Lost, Season 2                            The Long Con                             Protected MPEG-4 video file  1.99     \n",
            "Lost, Season 2                            The Other 48 Days                        Protected MPEG-4 video file  1.99     \n",
            "Lost, Season 2                            The Whole Truth                          Protected MPEG-4 video file  1.99     \n",
            "Lost, Season 3                            Catch-22                                 Protected MPEG-4 video file  1.99     \n",
            "Lost, Season 3                            Enter 77                                 Protected MPEG-4 video file  1.99     \n",
            "Lost, Season 3                            Exposé                                   Protected MPEG-4 video file  1.99     \n",
            "Lost, Season 3                            I Do                                     Protected MPEG-4 video file  1.99     \n",
            "Lost, Season 3                            Lost Survival Guide                      Protected MPEG-4 video file  1.99     \n",
            "Lost, Season 3                            Par Avion                                Protected MPEG-4 video file  1.99     \n",
            "Lost, Season 3                            Stranger In a Strange Land               Protected MPEG-4 video file  1.99     \n",
            "Lost, Season 3                            The Glass Ballerina                      Protected MPEG-4 video file  1.99     \n",
            "Lost, Season 3                            The Man Behind the Curtain               Protected MPEG-4 video file  1.99     \n",
            "Lost, Season 3                            Through a Looking Glass                  Protected MPEG-4 video file  1.99     \n",
            "Lost, Season 3                            Through the Looking Glass, Pt. 1         Protected MPEG-4 video file  1.99     \n",
            "The Office, Season 1                      Diversity Day                            Protected MPEG-4 video file  1.99     \n",
            "The Office, Season 1                      Hot Girl                                 Protected MPEG-4 video file  1.99     \n",
            "The Office, Season 2                      Christmas Party                          Protected MPEG-4 video file  1.99     \n",
            "The Office, Season 2                      Email Surveillance                       Protected MPEG-4 video file  1.99     \n",
            "The Office, Season 2                      Halloween                                Protected MPEG-4 video file  1.99     \n",
            "The Office, Season 2                      Michael's Birthday                       Protected MPEG-4 video file  1.99     \n",
            "The Office, Season 2                      The Carpet                               Protected MPEG-4 video file  1.99     \n",
            "The Office, Season 2                      The Dundies                              Protected MPEG-4 video file  1.99     \n",
            "The Office, Season 3                      A Benihana Christmas, Pts. 1 & 2         Protected MPEG-4 video file  1.99     \n",
            "The Office, Season 3                      Back from Vacation                       Protected MPEG-4 video file  1.99     \n",
            "The Office, Season 3                      Branch Closing                           Protected MPEG-4 video file  1.99     \n",
            "The Office, Season 3                      Diwali                                   Protected MPEG-4 video file  1.99     \n",
            "The Office, Season 3                      Gay Witch Hunt                           Protected MPEG-4 video file  1.99     \n",
            "The Office, Season 3                      Phyllis's Wedding                        Protected MPEG-4 video file  1.99     \n",
            "The Office, Season 3                      Producer's Cut: The Return               Protected MPEG-4 video file  1.99     \n",
            "The Office, Season 3                      Safety Training                          Protected MPEG-4 video file  1.99     \n",
            "The Office, Season 3                      The Convention                           Protected MPEG-4 video file  1.99     \n",
            "The Office, Season 3                      The Convict                              Protected MPEG-4 video file  1.99     \n",
            "The Office, Season 3                      The Coup                                 Protected MPEG-4 video file  1.99     \n",
            "The Office, Season 3                      The Initiation                           Protected MPEG-4 video file  1.99     \n",
            "The Office, Season 3                      The Job                                  Protected MPEG-4 video file  1.99     \n"
          ]
        }
      ]
    }
  ]
}